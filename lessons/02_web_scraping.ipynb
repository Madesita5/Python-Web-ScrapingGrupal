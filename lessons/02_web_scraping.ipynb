{
 "cells": [
  {
   "cell_type": "markdown",
   "metadata": {},
   "source": [
    "# Web Scraping with Beautiful Soup\n",
    "\n",
    "* * * \n",
    "\n",
    "### Icons used in this notebook\n",
    "🔔 **Question**: A quick question to help you understand what's going on.<br>\n",
    "🥊 **Challenge**: Interactive exercise. We'll work through these in the workshop!<br>\n",
    "⚠️ **Warning**: Heads-up about tricky stuff or common mistakes.<br>\n",
    "💡 **Tip**: How to do something a bit more efficiently or effectively.<br>\n",
    "🎬 **Demo**: Showing off something more advanced – so you know what Python can be used for!<br>\n",
    "\n",
    "### Learning Objectives\n",
    "1. [Reflection: To Scape Or Not To Scrape](#when)\n",
    "2. [Extracting and Parsing HTML](#extract)\n",
    "3. [Scraping the Illinois General Assembly](#scrape)"
   ]
  },
  {
   "cell_type": "markdown",
   "metadata": {},
   "source": [
    "<a id='when'></a>\n",
    "\n",
    "# To Scrape Or Not To Scrape\n",
    "\n",
    "When we'd like to access data from the web, we first have to make sure if the website we are interested in offers a Web API. Platforms like Twitter, Reddit, and the New York Times offer APIs. **Check out D-Lab's [Python Web APIs](https://github.com/dlab-berkeley/Python-Web-APIs) workshop if you want to learn how to use APIs.**\n",
    "\n",
    "However, there are often cases when a Web API does not exist. In these cases, we may have to resort to web scraping, where we extract the underlying HTML from a web page, and directly obtain the information we want. There are several packages in Python we can use to accomplish these tasks. We'll focus two packages: Requests and Beautiful Soup.\n",
    "\n",
    "Our case study will be scraping information on the [state senators of Illinois](http://www.ilga.gov/senate), as well as the [list of bills](http://www.ilga.gov/senate/SenatorBills.asp?MemberID=1911&GA=98&Primary=True) each senator has sponsored. Before we get started, peruse these websites to take a look at their structure."
   ]
  },
  {
   "cell_type": "markdown",
   "metadata": {},
   "source": [
    "## Installation\n",
    "\n",
    "We will use two main packages: [Requests](http://docs.python-requests.org/en/latest/user/quickstart/) and [Beautiful Soup](http://www.crummy.com/software/BeautifulSoup/bs4/doc/). Go ahead and install these packages, if you haven't already:"
   ]
  },
  {
   "cell_type": "code",
   "execution_count": null,
   "metadata": {},
   "outputs": [],
   "source": [
    "# Instalación del paquete 'requests' para realizar solicitudes HTTP a páginas web."
   ]
  },
  {
   "cell_type": "code",
   "execution_count": 1,
   "metadata": {},
   "outputs": [
    {
     "name": "stdout",
     "output_type": "stream",
     "text": [
      "Requirement already satisfied: requests in c:\\users\\roberto\\anaconda3\\lib\\site-packages (2.32.3)\n",
      "Requirement already satisfied: charset-normalizer<4,>=2 in c:\\users\\roberto\\anaconda3\\lib\\site-packages (from requests) (3.3.2)\n",
      "Requirement already satisfied: idna<4,>=2.5 in c:\\users\\roberto\\anaconda3\\lib\\site-packages (from requests) (3.7)\n",
      "Requirement already satisfied: urllib3<3,>=1.21.1 in c:\\users\\roberto\\anaconda3\\lib\\site-packages (from requests) (2.3.0)\n",
      "Requirement already satisfied: certifi>=2017.4.17 in c:\\users\\roberto\\anaconda3\\lib\\site-packages (from requests) (2025.4.26)\n",
      "Note: you may need to restart the kernel to use updated packages.\n"
     ]
    }
   ],
   "source": [
    "%pip install requests"
   ]
  },
  {
   "cell_type": "code",
   "execution_count": null,
   "metadata": {},
   "outputs": [],
   "source": [
    "# Instalación del paquete 'beautifulsoup4' para analizar (parsear) el contenido HTML de páginas web."
   ]
  },
  {
   "cell_type": "code",
   "execution_count": 2,
   "metadata": {},
   "outputs": [
    {
     "name": "stdout",
     "output_type": "stream",
     "text": [
      "Requirement already satisfied: beautifulsoup4 in c:\\users\\roberto\\anaconda3\\lib\\site-packages (4.12.3)\n",
      "Requirement already satisfied: soupsieve>1.2 in c:\\users\\roberto\\anaconda3\\lib\\site-packages (from beautifulsoup4) (2.5)\n",
      "Note: you may need to restart the kernel to use updated packages.\n"
     ]
    }
   ],
   "source": [
    "%pip install beautifulsoup4"
   ]
  },
  {
   "cell_type": "markdown",
   "metadata": {},
   "source": [
    "We'll also install the `lxml` package, which helps support some of the parsing that Beautiful Soup performs:"
   ]
  },
  {
   "cell_type": "code",
   "execution_count": null,
   "metadata": {},
   "outputs": [],
   "source": [
    "# Instalación del parser 'lxml', que es rápido y eficiente para trabajar con HTML y XML."
   ]
  },
  {
   "cell_type": "code",
   "execution_count": 3,
   "metadata": {},
   "outputs": [
    {
     "name": "stdout",
     "output_type": "stream",
     "text": [
      "Requirement already satisfied: lxml in c:\\users\\roberto\\anaconda3\\lib\\site-packages (5.3.0)\n",
      "Note: you may need to restart the kernel to use updated packages.\n"
     ]
    }
   ],
   "source": [
    "%pip install lxml"
   ]
  },
  {
   "cell_type": "code",
   "execution_count": 2,
   "metadata": {
    "tags": []
   },
   "outputs": [],
   "source": [
    "# Import required libraries\n",
    "from bs4 import BeautifulSoup\n",
    "from datetime import datetime\n",
    "import requests\n",
    "import time"
   ]
  },
  {
   "cell_type": "markdown",
   "metadata": {},
   "source": [
    "<a id='extract'></a>\n",
    "\n",
    "# Extracting and Parsing HTML \n",
    "\n",
    "In order to succesfully scrape and analyse HTML, we'll be going through the following 4 steps:\n",
    "1. Make a GET request\n",
    "2. Parse the page with Beautiful Soup\n",
    "3. Search for HTML elements\n",
    "4. Get attributes and text of these elements"
   ]
  },
  {
   "cell_type": "markdown",
   "metadata": {},
   "source": [
    "## Step 1: Make a GET Request to Obtain a Page's HTML\n",
    "\n",
    "We can use the Requests library to:\n",
    "\n",
    "1. Make a GET request to the page, and\n",
    "2. Read in the webpage's HTML code.\n",
    "\n",
    "The process of making a request and obtaining a result resembles that of the Web API workflow. Now, however, we're making a request directly to the website, and we're going to have to parse the HTML ourselves. This is in contrast to being provided data organized into a more straightforward `JSON` or `XML` output."
   ]
  },
  {
   "cell_type": "markdown",
   "metadata": {},
   "source": [
    "se actualiza el link actual para obtener los datos de los miembros ya que la pagina original ha cambiado"
   ]
  },
  {
   "cell_type": "code",
   "execution_count": null,
   "metadata": {},
   "outputs": [],
   "source": [
    "# Realizamos una solicitud HTTP GET a la página del Senado de Illinois.\n",
    "# Luego guardamos el contenido HTML de la respuesta en la variable 'src'.\n",
    "# Finalmente, imprimimos los primeros 1000 caracteres para visualizar una parte del contenido HTML recibido."
   ]
  },
  {
   "cell_type": "code",
   "execution_count": 4,
   "metadata": {
    "tags": []
   },
   "outputs": [
    {
     "name": "stdout",
     "output_type": "stream",
     "text": [
      "<!DOCTYPE html>\n",
      "<html lang=\"en\">\n",
      "<head id=\"Head1\">\n",
      "    <meta name=\"viewport\" content=\"width=device-width, initial-scale=1.0\" />\n",
      "    <meta http-equiv=\"content-type\" content=\"text/html;charset=utf-8\" />\n",
      "    <meta http-equiv=\"X-UA-Compatible\" content=\"IE=Edge\" />\n",
      "    <meta charset=\"utf-8\" />\n",
      "    <meta charset=\"UTF-8\">\n",
      "    <!-- Meta Description -->\n",
      "    <meta name=\"description\" content=\"Welcome to the official government website of the Illinois General Assembly\">\n",
      "    <meta name=\"contactName\" content=\"Legislative Information System\">\n",
      "    <meta name=\"contactOrganization\" content=\"LIS Staff Services\">\n",
      "    <meta name=\"contactStreetAddress1\" content=\"705 Stratton Office Building\">\n",
      "    <meta name=\"contactCity\" content=\"Springfield\">\n",
      "    <meta name=\"contactZipcode\" content=\"62706\">\n",
      "    <meta name=\"contactNetworkAddress\" content=\"webmaster@ilga.gov\">\n",
      "    <meta name=\"contactPhoneNumber\" content=\"217-782-3944\">\n",
      "    <meta name=\"contactFaxNumber\" content=\"217-524-6059\">\n",
      "    <meta name\n"
     ]
    }
   ],
   "source": [
    "# Make a GET request\n",
    "req = requests.get('https://www.ilga.gov/Senate/Members')\n",
    "# Read the content of the server’s response\n",
    "src = req.text\n",
    "# View some output\n",
    "print(src[:1000])"
   ]
  },
  {
   "cell_type": "markdown",
   "metadata": {},
   "source": [
    "## Step 2: Parse the Page with Beautiful Soup\n",
    "\n",
    "Now, we use the `BeautifulSoup` function to parse the reponse into an HTML tree. This returns an object (called a **soup object**) which contains all of the HTML in the original document.\n",
    "\n",
    "If you run into an error about a parser library, make sure you've installed the `lxml` package to provide Beautiful Soup with the necessary parsing tools."
   ]
  },
  {
   "cell_type": "code",
   "execution_count": 5,
   "metadata": {},
   "outputs": [
    {
     "name": "stdout",
     "output_type": "stream",
     "text": [
      "<!DOCTYPE html>\n",
      "<html lang=\"en\">\n",
      " <head id=\"Head1\">\n",
      "  <meta content=\"width=device-width, initial-scale=1.0\" name=\"viewport\"/>\n",
      "  <meta content=\"text/html;charset=utf-8\" http-equiv=\"content-type\"/>\n",
      "  <meta content=\"IE=Edge\" http-equiv=\"X-UA-Compatible\"/>\n",
      "  <meta charset=\"utf-8\"/>\n",
      "  <meta charset=\"utf-8\"/>\n",
      "  <!-- Meta Description -->\n",
      "  <meta content=\"Welcome to the official government website of the Illinois General Assembly\" name=\"description\"/>\n",
      "  <meta content=\"Legislative Information System\" name=\"contactName\"/>\n",
      "  <meta content=\"LIS Staff Services\" name=\"contactOrganization\"/>\n",
      "  <meta content=\"705 Stratton Office Building\" name=\"contactStreetAddress1\"/>\n",
      "  <meta content=\"Springfield\" name=\"contactCity\"/>\n",
      "  <meta content=\"62706\" name=\"contactZipcode\"/>\n",
      "  <meta content=\"webmaster@ilga.gov\" name=\"contactNetworkAddress\"/>\n",
      "  <meta content=\"217-782-3944\" name=\"contactPhoneNumber\"/>\n",
      "  <meta content=\"217-524-6059\" name=\"contactFaxNumber\"/>\n",
      "  <meta content=\"State Of Illinois\" name=\"originatorJur\n"
     ]
    }
   ],
   "source": [
    "# Parse the response into an HTML tree\n",
    "soup = BeautifulSoup(src, 'lxml')\n",
    "# Take a look\n",
    "print(soup.prettify()[:1000])"
   ]
  },
  {
   "cell_type": "markdown",
   "metadata": {},
   "source": [
    "Se verifica que se esta extrayendo la informacion de la pagina web"
   ]
  },
  {
   "cell_type": "markdown",
   "metadata": {},
   "source": [
    "The output looks pretty similar to the above, but now it's organized in a `soup` object which allows us to more easily traverse the page."
   ]
  },
  {
   "cell_type": "markdown",
   "metadata": {},
   "source": [
    "## Step 3: Search for HTML Elements\n",
    "\n",
    "Beautiful Soup has a number of functions to find useful components on a page. Beautiful Soup lets you find elements by their:\n",
    "\n",
    "1. HTML tags\n",
    "2. HTML Attributes\n",
    "3. CSS Selectors\n",
    "\n",
    "Let's search first for **HTML tags**. \n",
    "\n",
    "The function `find_all` searches the `soup` tree to find all the elements with an a particular HTML tag, and returns all of those elements.\n",
    "\n",
    "What does the example below do?"
   ]
  },
  {
   "cell_type": "markdown",
   "metadata": {},
   "source": [
    "se remplaza tr por la variable a, que es donde se guarda la informacion en la pagina web, analiznado el html para determinar donde se esta guardando la informacion"
   ]
  },
  {
   "cell_type": "code",
   "execution_count": 6,
   "metadata": {},
   "outputs": [
    {
     "name": "stdout",
     "output_type": "stream",
     "text": [
      "[<a b-0yw6sxot5c=\"\" class=\"dropdown-item\" data-lang=\"en\" href=\"#\">\n",
      "<span b-0yw6sxot5c=\"\" class=\"flag-icon flag-icon-us\"></span> English\n",
      "                            </a>, <a b-0yw6sxot5c=\"\" class=\"dropdown-item\" data-lang=\"af\" href=\"#\">\n",
      "<span b-0yw6sxot5c=\"\" class=\"flag-icon flag-icon-za\"></span> Afrikaans\n",
      "                            </a>, <a b-0yw6sxot5c=\"\" class=\"dropdown-item\" data-lang=\"sq\" href=\"#\">\n",
      "<span b-0yw6sxot5c=\"\" class=\"flag-icon flag-icon-al\"></span> Albanian\n",
      "                            </a>, <a b-0yw6sxot5c=\"\" class=\"dropdown-item\" data-lang=\"ar\" href=\"#\">\n",
      "<span b-0yw6sxot5c=\"\" class=\"flag-icon flag-icon-ae\"></span> Arabic\n",
      "                            </a>, <a b-0yw6sxot5c=\"\" class=\"dropdown-item\" data-lang=\"hy\" href=\"#\">\n",
      "<span b-0yw6sxot5c=\"\" class=\"flag-icon flag-icon-am\"></span> Armenian\n",
      "                            </a>, <a b-0yw6sxot5c=\"\" class=\"dropdown-item\" data-lang=\"az\" href=\"#\">\n",
      "<span b-0yw6sxot5c=\"\" class=\"flag-icon flag-icon-az\"></span> Azerbaijani\n",
      "                            </a>, <a b-0yw6sxot5c=\"\" class=\"dropdown-item\" data-lang=\"eu\" href=\"#\">\n",
      "<span b-0yw6sxot5c=\"\" class=\"flag-icon flag-icon-eu\"></span> Basque\n",
      "                            </a>, <a b-0yw6sxot5c=\"\" class=\"dropdown-item\" data-lang=\"bn\" href=\"#\">\n",
      "<span b-0yw6sxot5c=\"\" class=\"flag-icon flag-icon-bd\"></span> Bengali\n",
      "                            </a>, <a b-0yw6sxot5c=\"\" class=\"dropdown-item\" data-lang=\"bs\" href=\"#\">\n",
      "<span b-0yw6sxot5c=\"\" class=\"flag-icon flag-icon-ba\"></span> Bosnian\n",
      "                            </a>, <a b-0yw6sxot5c=\"\" class=\"dropdown-item\" data-lang=\"ca\" href=\"#\">\n",
      "<span b-0yw6sxot5c=\"\" class=\"flag-icon flag-icon-es\"></span> Catalan\n",
      "                            </a>, <a b-0yw6sxot5c=\"\" class=\"dropdown-item\" data-lang=\"hr\" href=\"#\">\n",
      "<span b-0yw6sxot5c=\"\" class=\"flag-icon flag-icon-hr\"></span> Croatian\n",
      "                            </a>, <a b-0yw6sxot5c=\"\" class=\"dropdown-item\" data-lang=\"cs\" href=\"#\">\n",
      "<span b-0yw6sxot5c=\"\" class=\"flag-icon flag-icon-cz\"></span> Czech\n",
      "                            </a>, <a b-0yw6sxot5c=\"\" class=\"dropdown-item\" data-lang=\"da\" href=\"#\">\n",
      "<span b-0yw6sxot5c=\"\" class=\"flag-icon flag-icon-dk\"></span> Danish\n",
      "                            </a>, <a b-0yw6sxot5c=\"\" class=\"dropdown-item\" data-lang=\"nl\" href=\"#\">\n",
      "<span b-0yw6sxot5c=\"\" class=\"flag-icon flag-icon-nl\"></span> Dutch\n",
      "                            </a>, <a b-0yw6sxot5c=\"\" class=\"dropdown-item\" data-lang=\"eo\" href=\"#\">\n",
      "<span b-0yw6sxot5c=\"\" class=\"flag-icon flag-icon-eo\"></span> Esperanto\n",
      "                            </a>, <a b-0yw6sxot5c=\"\" class=\"dropdown-item\" data-lang=\"et\" href=\"#\">\n",
      "<span b-0yw6sxot5c=\"\" class=\"flag-icon flag-icon-ee\"></span> Estonian\n",
      "                            </a>, <a b-0yw6sxot5c=\"\" class=\"dropdown-item\" data-lang=\"tl\" href=\"#\">\n",
      "<span b-0yw6sxot5c=\"\" class=\"flag-icon flag-icon-ph\"></span> Filipino\n",
      "                            </a>, <a b-0yw6sxot5c=\"\" class=\"dropdown-item\" data-lang=\"fi\" href=\"#\">\n",
      "<span b-0yw6sxot5c=\"\" class=\"flag-icon flag-icon-fi\"></span> Finnish\n",
      "                            </a>, <a b-0yw6sxot5c=\"\" class=\"dropdown-item\" data-lang=\"fr\" href=\"#\">\n",
      "<span b-0yw6sxot5c=\"\" class=\"flag-icon flag-icon-fr\"></span> French\n",
      "                            </a>, <a b-0yw6sxot5c=\"\" class=\"dropdown-item\" data-lang=\"gl\" href=\"#\">\n",
      "<span b-0yw6sxot5c=\"\" class=\"flag-icon flag-icon-gl\"></span> Galician\n",
      "                            </a>, <a b-0yw6sxot5c=\"\" class=\"dropdown-item\" data-lang=\"ka\" href=\"#\">\n",
      "<span b-0yw6sxot5c=\"\" class=\"flag-icon flag-icon-ge\"></span> Georgian\n",
      "                            </a>, <a b-0yw6sxot5c=\"\" class=\"dropdown-item\" data-lang=\"de\" href=\"#\">\n",
      "<span b-0yw6sxot5c=\"\" class=\"flag-icon flag-icon-de\"></span> German\n",
      "                            </a>, <a b-0yw6sxot5c=\"\" class=\"dropdown-item\" data-lang=\"el\" href=\"#\">\n",
      "<span b-0yw6sxot5c=\"\" class=\"flag-icon flag-icon-gr\"></span> Greek\n",
      "                            </a>, <a b-0yw6sxot5c=\"\" class=\"dropdown-item\" data-lang=\"gu\" href=\"#\">\n",
      "<span b-0yw6sxot5c=\"\" class=\"flag-icon flag-icon-in\"></span> Gujarati\n",
      "                            </a>, <a b-0yw6sxot5c=\"\" class=\"dropdown-item\" data-lang=\"ht\" href=\"#\">\n",
      "<span b-0yw6sxot5c=\"\" class=\"flag-icon flag-icon-ht\"></span> Haitian Creole\n",
      "                            </a>, <a b-0yw6sxot5c=\"\" class=\"dropdown-item\" data-lang=\"ha\" href=\"#\">\n",
      "<span b-0yw6sxot5c=\"\" class=\"flag-icon flag-icon-ng\"></span> Hausa\n",
      "                            </a>, <a b-0yw6sxot5c=\"\" class=\"dropdown-item\" data-lang=\"haw\" href=\"#\">\n",
      "<span b-0yw6sxot5c=\"\" class=\"flag-icon flag-icon-us\"></span> Hawaiian\n",
      "                            </a>, <a b-0yw6sxot5c=\"\" class=\"dropdown-item\" data-lang=\"he\" href=\"#\">\n",
      "<span b-0yw6sxot5c=\"\" class=\"flag-icon flag-icon-il\"></span> Hebrew\n",
      "                            </a>, <a b-0yw6sxot5c=\"\" class=\"dropdown-item\" data-lang=\"hi\" href=\"#\">\n",
      "<span b-0yw6sxot5c=\"\" class=\"flag-icon flag-icon-in\"></span> Hindi\n",
      "                            </a>, <a b-0yw6sxot5c=\"\" class=\"dropdown-item\" data-lang=\"hu\" href=\"#\">\n",
      "<span b-0yw6sxot5c=\"\" class=\"flag-icon flag-icon-hu\"></span> Hungarian\n",
      "                            </a>, <a b-0yw6sxot5c=\"\" class=\"dropdown-item\" data-lang=\"is\" href=\"#\">\n",
      "<span b-0yw6sxot5c=\"\" class=\"flag-icon flag-icon-is\"></span> Icelandic\n",
      "                            </a>, <a b-0yw6sxot5c=\"\" class=\"dropdown-item\" data-lang=\"id\" href=\"#\">\n",
      "<span b-0yw6sxot5c=\"\" class=\"flag-icon flag-icon-id\"></span> Indonesian\n",
      "                            </a>, <a b-0yw6sxot5c=\"\" class=\"dropdown-item\" data-lang=\"ia\" href=\"#\">\n",
      "<span b-0yw6sxot5c=\"\" class=\"flag-icon flag-icon-ia\"></span> Interlingua\n",
      "                            </a>, <a b-0yw6sxot5c=\"\" class=\"dropdown-item\" data-lang=\"ie\" href=\"#\">\n",
      "<span b-0yw6sxot5c=\"\" class=\"flag-icon flag-icon-ie\"></span> Interlingue\n",
      "                            </a>, <a b-0yw6sxot5c=\"\" class=\"dropdown-item\" data-lang=\"iu\" href=\"#\">\n",
      "<span b-0yw6sxot5c=\"\" class=\"flag-icon flag-icon-iu\"></span> Inuktitut\n",
      "                            </a>, <a b-0yw6sxot5c=\"\" class=\"dropdown-item\" data-lang=\"ga\" href=\"#\">\n",
      "<span b-0yw6sxot5c=\"\" class=\"flag-icon flag-icon-ie\"></span> Irish\n",
      "                            </a>, <a b-0yw6sxot5c=\"\" class=\"dropdown-item\" data-lang=\"it\" href=\"#\">\n",
      "<span b-0yw6sxot5c=\"\" class=\"flag-icon flag-icon-it\"></span> Italian\n",
      "                            </a>, <a b-0yw6sxot5c=\"\" class=\"dropdown-item\" data-lang=\"ja\" href=\"#\">\n",
      "<span b-0yw6sxot5c=\"\" class=\"flag-icon flag-icon-jp\"></span> Japanese\n",
      "                            </a>, <a b-0yw6sxot5c=\"\" class=\"dropdown-item\" data-lang=\"jw\" href=\"#\">\n",
      "<span b-0yw6sxot5c=\"\" class=\"flag-icon flag-icon-id\"></span> Javanese\n",
      "                            </a>, <a b-0yw6sxot5c=\"\" class=\"dropdown-item\" data-lang=\"kn\" href=\"#\">\n",
      "<span b-0yw6sxot5c=\"\" class=\"flag-icon flag-icon-in\"></span> Kannada\n",
      "                            </a>, <a b-0yw6sxot5c=\"\" class=\"dropdown-item\" data-lang=\"km\" href=\"#\">\n",
      "<span b-0yw6sxot5c=\"\" class=\"flag-icon flag-icon-kh\"></span> Khmer\n",
      "                            </a>, <a b-0yw6sxot5c=\"\" class=\"dropdown-item\" data-lang=\"ko\" href=\"#\">\n",
      "<span b-0yw6sxot5c=\"\" class=\"flag-icon flag-icon-kr\"></span> Korean\n",
      "                            </a>, <a b-0yw6sxot5c=\"\" class=\"dropdown-item\" data-lang=\"la\" href=\"#\">\n",
      "<span b-0yw6sxot5c=\"\" class=\"flag-icon flag-icon-vat\"></span> Latin\n",
      "                            </a>, <a b-0yw6sxot5c=\"\" class=\"dropdown-item\" data-lang=\"lv\" href=\"#\">\n",
      "<span b-0yw6sxot5c=\"\" class=\"flag-icon flag-icon-lv\"></span> Latvian\n",
      "                            </a>, <a b-0yw6sxot5c=\"\" class=\"dropdown-item\" data-lang=\"lt\" href=\"#\">\n",
      "<span b-0yw6sxot5c=\"\" class=\"flag-icon flag-icon-lt\"></span> Lithuanian\n",
      "                            </a>, <a b-0yw6sxot5c=\"\" class=\"dropdown-item\" data-lang=\"lb\" href=\"#\">\n",
      "<span b-0yw6sxot5c=\"\" class=\"flag-icon flag-icon-lu\"></span> Luxembourgish\n",
      "                            </a>, <a b-0yw6sxot5c=\"\" class=\"dropdown-item\" data-lang=\"mk\" href=\"#\">\n",
      "<span b-0yw6sxot5c=\"\" class=\"flag-icon flag-icon-mk\"></span> Macedonian\n",
      "                            </a>, <a b-0yw6sxot5c=\"\" class=\"dropdown-item\" data-lang=\"mg\" href=\"#\">\n",
      "<span b-0yw6sxot5c=\"\" class=\"flag-icon flag-icon-mg\"></span> Malagasy\n",
      "                            </a>, <a b-0yw6sxot5c=\"\" class=\"dropdown-item\" data-lang=\"ml\" href=\"#\">\n",
      "<span b-0yw6sxot5c=\"\" class=\"flag-icon flag-icon-in\"></span> Malayalam\n",
      "                            </a>, <a b-0yw6sxot5c=\"\" class=\"dropdown-item\" data-lang=\"mt\" href=\"#\">\n",
      "<span b-0yw6sxot5c=\"\" class=\"flag-icon flag-icon-mt\"></span> Maltese\n",
      "                            </a>, <a b-0yw6sxot5c=\"\" class=\"dropdown-item\" data-lang=\"mi\" href=\"#\">\n",
      "<span b-0yw6sxot5c=\"\" class=\"flag-icon flag-icon-nz\"></span> Maori\n",
      "                            </a>, <a b-0yw6sxot5c=\"\" class=\"dropdown-item\" data-lang=\"mr\" href=\"#\">\n",
      "<span b-0yw6sxot5c=\"\" class=\"flag-icon flag-icon-in\"></span> Marathi\n",
      "                            </a>, <a b-0yw6sxot5c=\"\" class=\"dropdown-item\" data-lang=\"my\" href=\"#\">\n",
      "<span b-0yw6sxot5c=\"\" class=\"flag-icon flag-icon-mm\"></span> Myanmar\n",
      "                            </a>, <a b-0yw6sxot5c=\"\" class=\"dropdown-item\" data-lang=\"ne\" href=\"#\">\n",
      "<span b-0yw6sxot5c=\"\" class=\"flag-icon flag-icon-np\"></span> Nepali\n",
      "                            </a>, <a b-0yw6sxot5c=\"\" class=\"dropdown-item\" data-lang=\"no\" href=\"#\">\n",
      "<span b-0yw6sxot5c=\"\" class=\"flag-icon flag-icon-no\"></span> Norwegian\n",
      "                            </a>, <a b-0yw6sxot5c=\"\" class=\"dropdown-item\" data-lang=\"or\" href=\"#\">\n",
      "<span b-0yw6sxot5c=\"\" class=\"flag-icon flag-icon-in\"></span> Odia\n",
      "                            </a>, <a b-0yw6sxot5c=\"\" class=\"dropdown-item\" data-lang=\"ps\" href=\"#\">\n",
      "<span b-0yw6sxot5c=\"\" class=\"flag-icon flag-icon-af\"></span> Pashto\n",
      "                            </a>, <a b-0yw6sxot5c=\"\" class=\"dropdown-item\" data-lang=\"pa\" href=\"#\">\n",
      "<span b-0yw6sxot5c=\"\" class=\"flag-icon flag-icon-in\"></span> Punjabi\n",
      "                            </a>, <a b-0yw6sxot5c=\"\" class=\"dropdown-item\" data-lang=\"ro\" href=\"#\">\n",
      "<span b-0yw6sxot5c=\"\" class=\"flag-icon flag-icon-ro\"></span> Romanian\n",
      "                            </a>, <a b-0yw6sxot5c=\"\" class=\"dropdown-item\" data-lang=\"ru\" href=\"#\">\n",
      "<span b-0yw6sxot5c=\"\" class=\"flag-icon flag-icon-ru\"></span> Russian\n",
      "                            </a>, <a b-0yw6sxot5c=\"\" class=\"dropdown-item\" data-lang=\"sm\" href=\"#\">\n",
      "<span b-0yw6sxot5c=\"\" class=\"flag-icon flag-icon-sm\"></span> Samoan\n",
      "                            </a>, <a b-0yw6sxot5c=\"\" class=\"dropdown-item\" data-lang=\"sg\" href=\"#\">\n",
      "<span b-0yw6sxot5c=\"\" class=\"flag-icon flag-icon-sg\"></span> Sango\n",
      "                            </a>, <a b-0yw6sxot5c=\"\" class=\"dropdown-item\" data-lang=\"sa\" href=\"#\">\n",
      "<span b-0yw6sxot5c=\"\" class=\"flag-icon flag-icon-in\"></span> Sanskrit\n",
      "                            </a>, <a b-0yw6sxot5c=\"\" class=\"dropdown-item\" data-lang=\"sc\" href=\"#\">\n",
      "<span b-0yw6sxot5c=\"\" class=\"flag-icon flag-icon-it\"></span> Sardinian\n",
      "                            </a>, <a b-0yw6sxot5c=\"\" class=\"dropdown-item\" data-lang=\"sd\" href=\"#\">\n",
      "<span b-0yw6sxot5c=\"\" class=\"flag-icon flag-icon-pk\"></span> Sindhi\n",
      "                            </a>, <a b-0yw6sxot5c=\"\" class=\"dropdown-item\" data-lang=\"si\" href=\"#\">\n",
      "<span b-0yw6sxot5c=\"\" class=\"flag-icon flag-icon-lk\"></span> Sinhala\n",
      "                            </a>, <a b-0yw6sxot5c=\"\" class=\"dropdown-item\" data-lang=\"sk\" href=\"#\">\n",
      "<span b-0yw6sxot5c=\"\" class=\"flag-icon flag-icon-sk\"></span> Slovak\n",
      "                            </a>, <a b-0yw6sxot5c=\"\" class=\"dropdown-item\" data-lang=\"sl\" href=\"#\">\n",
      "<span b-0yw6sxot5c=\"\" class=\"flag-icon flag-icon-si\"></span> Slovenian\n",
      "                            </a>, <a b-0yw6sxot5c=\"\" class=\"dropdown-item\" data-lang=\"so\" href=\"#\">\n",
      "<span b-0yw6sxot5c=\"\" class=\"flag-icon flag-icon-so\"></span> Somali\n",
      "                            </a>, <a b-0yw6sxot5c=\"\" class=\"dropdown-item\" data-lang=\"st\" href=\"#\">\n",
      "<span b-0yw6sxot5c=\"\" class=\"flag-icon flag-icon-za\"></span> Southern Sotho\n",
      "                            </a>, <a b-0yw6sxot5c=\"\" class=\"dropdown-item\" data-lang=\"es\" href=\"#\">\n",
      "<span b-0yw6sxot5c=\"\" class=\"flag-icon flag-icon-es\"></span> Spanish\n",
      "                            </a>, <a b-0yw6sxot5c=\"\" class=\"dropdown-item\" data-lang=\"su\" href=\"#\">\n",
      "<span b-0yw6sxot5c=\"\" class=\"flag-icon flag-icon-id\"></span> Sundanese\n",
      "                            </a>, <a b-0yw6sxot5c=\"\" class=\"dropdown-item\" data-lang=\"sw\" href=\"#\">\n",
      "<span b-0yw6sxot5c=\"\" class=\"flag-icon flag-icon-ke\"></span> Swahili\n",
      "                            </a>, <a b-0yw6sxot5c=\"\" class=\"dropdown-item\" data-lang=\"sv\" href=\"#\">\n",
      "<span b-0yw6sxot5c=\"\" class=\"flag-icon flag-icon-se\"></span> Swedish\n",
      "                            </a>, <a b-0yw6sxot5c=\"\" class=\"dropdown-item\" data-lang=\"ta\" href=\"#\">\n",
      "<span b-0yw6sxot5c=\"\" class=\"flag-icon flag-icon-in\"></span> Tamil\n",
      "                            </a>, <a b-0yw6sxot5c=\"\" class=\"dropdown-item\" data-lang=\"te\" href=\"#\">\n",
      "<span b-0yw6sxot5c=\"\" class=\"flag-icon flag-icon-in\"></span> Telugu\n",
      "                            </a>, <a b-0yw6sxot5c=\"\" class=\"dropdown-item\" data-lang=\"th\" href=\"#\">\n",
      "<span b-0yw6sxot5c=\"\" class=\"flag-icon flag-icon-th\"></span> Thai\n",
      "                            </a>, <a b-0yw6sxot5c=\"\" class=\"dropdown-item\" data-lang=\"ti\" href=\"#\">\n",
      "<span b-0yw6sxot5c=\"\" class=\"flag-icon flag-icon-er\"></span> Tigrinya\n",
      "                            </a>, <a b-0yw6sxot5c=\"\" class=\"dropdown-item\" data-lang=\"to\" href=\"#\">\n",
      "<span b-0yw6sxot5c=\"\" class=\"flag-icon flag-icon-to\"></span> Tonga\n",
      "                            </a>, <a b-0yw6sxot5c=\"\" class=\"dropdown-item\" data-lang=\"tr\" href=\"#\">\n",
      "<span b-0yw6sxot5c=\"\" class=\"flag-icon flag-icon-tr\"></span> Turkish\n",
      "                            </a>, <a b-0yw6sxot5c=\"\" class=\"dropdown-item\" data-lang=\"uk\" href=\"#\">\n",
      "<span b-0yw6sxot5c=\"\" class=\"flag-icon flag-icon-ua\"></span> Ukrainian\n",
      "                            </a>, <a b-0yw6sxot5c=\"\" class=\"dropdown-item\" data-lang=\"ur\" href=\"#\">\n",
      "<span b-0yw6sxot5c=\"\" class=\"flag-icon flag-icon-pk\"></span> Urdu\n",
      "                            </a>, <a b-0yw6sxot5c=\"\" class=\"dropdown-item\" data-lang=\"vi\" href=\"#\">\n",
      "<span b-0yw6sxot5c=\"\" class=\"flag-icon flag-icon-vn\"></span> Vietnamese\n",
      "                            </a>, <a b-0yw6sxot5c=\"\" class=\"dropdown-item\" data-lang=\"cy\" href=\"#\">\n",
      "<span b-0yw6sxot5c=\"\" class=\"flag-icon flag-icon-gb\"></span> Welsh\n",
      "                            </a>, <a b-0yw6sxot5c=\"\" class=\"dropdown-item\" data-lang=\"xh\" href=\"#\">\n",
      "<span b-0yw6sxot5c=\"\" class=\"flag-icon flag-icon-za\"></span> Xhosa\n",
      "                            </a>, <a b-0yw6sxot5c=\"\" class=\"dropdown-item\" data-lang=\"yi\" href=\"#\">\n",
      "<span b-0yw6sxot5c=\"\" class=\"flag-icon flag-icon-us\"></span> Yiddish\n",
      "                            </a>, <a b-0yw6sxot5c=\"\" class=\"dropdown-item\" data-lang=\"yo\" href=\"#\">\n",
      "<span b-0yw6sxot5c=\"\" class=\"flag-icon flag-icon-ng\"></span> Yoruba\n",
      "                            </a>, <a b-0yw6sxot5c=\"\" class=\"dropdown-item\" data-lang=\"zu\" href=\"#\">\n",
      "<span b-0yw6sxot5c=\"\" class=\"flag-icon flag-icon-za\"></span> Zulu\n",
      "                            </a>, <a b-0yw6sxot5c=\"\" class=\"goog-logo-link\" href=\"https://translate.google.com\" target=\"_blank\"><img alt=\"Google Translate\" b-0yw6sxot5c=\"\" height=\"14\" src=\"https://www.gstatic.com/images/branding/googlelogo/1x/googlelogo_color_42x16dp.png\" style=\"padding-right: 3px;\" width=\"37\"/>Translate</a>, <a href=\"/\"><img b-0yw6sxot5c=\"\" src=\"https://cdn.ilga.gov/assets/img/site/white_capitol.png\"/><span b-0yw6sxot5c=\"\">ILGA.GOV</span></a>, <a aria-expanded=\"false\" aria-haspopup=\"true\" b-0yw6sxot5c=\"\" data-toggle=\"dropdown\" href=\"/Legislation\" role=\"button\">\n",
      "<span b-0yw6sxot5c=\"\">LEGISLATION &amp; LAWS</span> <i b-0yw6sxot5c=\"\" class=\"fa fa-chevron-down\"></i>\n",
      "</a>, <a b-0yw6sxot5c=\"\" href=\"/Legislation\">Bills &amp; Resolutions</a>, <a b-0yw6sxot5c=\"\" href=\"/Legislation/PublicActs\">Public Acts</a>, <a href=\"/Legislation/ILCS/Chapters\">Illinois Compiled Statutes</a>, <a href=\"/documents/commission/lrb/conmain.htm\" target=\"_blank\">Illinois Constitution</a>, <a href=\"/Search?q=&amp;base=Legis\">Search Legislation</a>, <a b-0yw6sxot5c=\"\" href=\"/Legislation/Glossary\">Glossary</a>, <a href=\"/Guide\">Guide</a>, <a aria-expanded=\"false\" aria-haspopup=\"true\" data-toggle=\"dropdown\" href=\"/Reports\" role=\"button\">\n",
      "<span b-0yw6sxot5c=\"\">Reports &amp; Inquiry</span> <i b-0yw6sxot5c=\"\" class=\"fa fa-chevron-down\"></i>\n",
      "</a>, <a href=\"/Reports\">Legislative Reports</a>, <a href=\"/Reports/SpecialReports\">Special Reports</a>, <a href=\"/ftp/\" target=\"_blank\">FTP Site</a>, <a href=\"/members/FindMyLegislator\">Legislator Lookup</a>, <a href=\"/directory\">Capitol Complex Phone Numbers</a>, <a aria-expanded=\"false\" aria-haspopup=\"true\" b-0yw6sxot5c=\"\" data-toggle=\"dropdown\" href=\"#\" role=\"button\">\n",
      "<span b-0yw6sxot5c=\"\">Rules &amp; Regulations</span> <i b-0yw6sxot5c=\"\" class=\"fa fa-chevron-down\"></i>\n",
      "</a>, <a b-0yw6sxot5c=\"\" href=\"http://www.cyberdriveillinois.com/departments/index/register/home.html\" target=\"_blank\">Illinois Register</a>, <a b-0yw6sxot5c=\"\" href=\"/agencies/JCAR/AdminCode\">Administrative Rules</a>, <a aria-expanded=\"false\" aria-haspopup=\"true\" b-0yw6sxot5c=\"\" data-toggle=\"dropdown\" href=\"/Senate/Members\" role=\"button\">\n",
      "<span b-0yw6sxot5c=\"\">Senate</span> <i b-0yw6sxot5c=\"\" class=\"fa fa-chevron-down\"></i>\n",
      "</a>, <a b-0yw6sxot5c=\"\" href=\"/Senate/Members\">Members</a>, <a b-0yw6sxot5c=\"\" href=\"/Senate/Schedules\">Schedules</a>, <a b-0yw6sxot5c=\"\" href=\"/Senate/Committees\">Committees</a>, <a b-0yw6sxot5c=\"\" href=\"/Uploads/Testimony/Senate/Remote Legislative Hearing Process 104th GA.pdf\" target=\"_blank\"> Request for Remote Testimony</a>, <a b-0yw6sxot5c=\"\" href=\"/Senate/Journals\">Journals</a>, <a b-0yw6sxot5c=\"\" href=\"/Senate/Transcripts\">Transcripts</a>, <a b-0yw6sxot5c=\"\" href=\"/Senate/Rules\">Rules</a>, <a b-0yw6sxot5c=\"\" href=\"/Senate/AudioVideo\">Audio/Video</a>, <a href=\"/Documents/senate/FOIA.pdf\" target=\"_blank\">FOIA Information</a>, <a href=\"/EmploymentOpportunities\">Senate Employment Opportunities</a>, <a href=\"/Documents/senate/SenateMediaGuidelines.pdf\" target=\"_blank\">Media Guidelines</a>, <a aria-expanded=\"false\" aria-haspopup=\"true\" b-0yw6sxot5c=\"\" data-toggle=\"dropdown\" href=\"/House/Members\" role=\"button\">\n",
      "<span b-0yw6sxot5c=\"\">House</span> <i b-0yw6sxot5c=\"\" class=\"fa fa-chevron-down\"></i>\n",
      "</a>, <a b-0yw6sxot5c=\"\" href=\"/House/Members\">Members</a>, <a b-0yw6sxot5c=\"\" href=\"/House/Schedules\">Schedules</a>, <a b-0yw6sxot5c=\"\" href=\"/House/Committees\">Committees</a>, <a b-0yw6sxot5c=\"\" href=\"/Uploads/Testimony/House/Remote_Committee_Hearing_Process_March2023.pdf\" target=\"_blank\"> Submit testimony for House Committees</a>, <a b-0yw6sxot5c=\"\" href=\"/House/Journals\">Journals</a>, <a b-0yw6sxot5c=\"\" href=\"/House/Transcripts\">Transcripts</a>, <a b-0yw6sxot5c=\"\" href=\"/House/Rules\">Rules</a>, <a b-0yw6sxot5c=\"\" href=\"/House/AudioVideo\">Audio/Video</a>, <a href=\"/Documents/house/FOIA.pdf\" target=\"_blank\">FOIA Information</a>, <a href=\"/EmploymentOpportunities\">House Employment Opportunities</a>, <a b-0yw6sxot5c=\"\" class=\"nav-link\" href=\"/Account/Login\"><i aria-hidden=\"true\" b-0yw6sxot5c=\"\" class=\"fa fa-user-lock\"></i><span b-0yw6sxot5c=\"\" class=\"d-none d-xl-inline\"> Log In</span></a>, <a class=\"active\" href=\"/\">Home</a>, <a class=\"btn btn-primary\" href=\"/Senate/Members/List\" id=\"viewSpecialSessionBtn\">View List</a>, <a class=\"btn btn-primary m-1\" href=\"/Documents/Senate/104th_Senate_Officers.pdf\" target=\"_blank\">Officers</a>, <a class=\"btn btn-primary m-1\" href=\"/Documents/Senate/104th_Senate_Leadership.pdf\" target=\"_blank\">Leadership</a>, <a class=\"btn btn-primary m-1\" href=\"https://www.ilga.gov/Documents/Senate/104th_Senate_Seating_Chart.pdf\" target=\"_blank\">Seating Chart</a>, <a class=\"btn btn-primary m-1\" href=\"Members/rptMemberList\" target=\"_blank\">Report List</a>, <a class=\"notranslate\" href=\"/Senate/Members/Details/3312\">Neil Anderson</a>, <a class=\"notranslate\" href=\"/Senate/Members/Details/3312\">Neil Anderson</a>, <a class=\"notranslate\" href=\"/Senate/Members/Details/3316\">Omar Aquino</a>, <a class=\"notranslate\" href=\"/Senate/Members/Details/3316\">Omar Aquino</a>, <a class=\"notranslate\" href=\"/Senate/Members/Details/3383\">Li Arellano, Jr.</a>, <a class=\"notranslate\" href=\"/Senate/Members/Details/3383\">Li Arellano, Jr.</a>, <a class=\"notranslate\" href=\"/Senate/Members/Details/3413\">Chris Balkema</a>, <a class=\"notranslate\" href=\"/Senate/Members/Details/3413\">Chris Balkema</a>, <a class=\"notranslate\" href=\"/Senate/Members/Details/3337\">Christopher Belt</a>, <a class=\"notranslate\" href=\"/Senate/Members/Details/3337\">Christopher Belt</a>, <a class=\"notranslate\" href=\"/Senate/Members/Details/3386\">Terri Bryant</a>, <a class=\"notranslate\" href=\"/Senate/Members/Details/3386\">Terri Bryant</a>, <a class=\"notranslate\" href=\"/Senate/Members/Details/3317\">Cristina Castro</a>, <a class=\"notranslate\" href=\"/Senate/Members/Details/3317\">Cristina Castro</a>, <a class=\"notranslate\" href=\"/Senate/Members/Details/3403\">Javier L. Cervantes</a>, <a class=\"notranslate\" href=\"/Senate/Members/Details/3403\">Javier L. Cervantes</a>, <a class=\"notranslate\" href=\"/Senate/Members/Details/3410\">Andrew S. Chesney</a>, <a class=\"notranslate\" href=\"/Senate/Members/Details/3410\">Andrew S. Chesney</a>, <a class=\"notranslate\" href=\"/Senate/Members/Details/3443\">Lakesia Collins</a>, <a class=\"notranslate\" href=\"/Senate/Members/Details/3443\">Lakesia Collins</a>, <a class=\"notranslate\" href=\"/Senate/Members/Details/3291\">Bill Cunningham</a>, <a class=\"notranslate\" href=\"/Senate/Members/Details/3291\">Bill Cunningham</a>, <a class=\"notranslate\" href=\"/Senate/Members/Details/3329\">John F. Curran</a>, <a class=\"notranslate\" href=\"/Senate/Members/Details/3329\">John F. Curran</a>, <a class=\"notranslate\" href=\"/Senate/Members/Details/3334\">Donald P. DeWitte</a>, <a class=\"notranslate\" href=\"/Senate/Members/Details/3334\">Donald P. DeWitte</a>, <a class=\"notranslate\" href=\"/Senate/Members/Details/3407\">Mary Edly-Allen</a>, <a class=\"notranslate\" href=\"/Senate/Members/Details/3407\">Mary Edly-Allen</a>, <a class=\"notranslate\" href=\"/Senate/Members/Details/3339\">Laura Ellman</a>, <a class=\"notranslate\" href=\"/Senate/Members/Details/3339\">Laura Ellman</a>, <a class=\"notranslate\" href=\"/Senate/Members/Details/3412\">Paul Faraci</a>, <a class=\"notranslate\" href=\"/Senate/Members/Details/3412\">Paul Faraci</a>, <a class=\"notranslate\" href=\"/Senate/Members/Details/3376\">Sara Feigenholtz</a>, <a class=\"notranslate\" href=\"/Senate/Members/Details/3376\">Sara Feigenholtz</a>, <a class=\"notranslate\" href=\"/Senate/Members/Details/3338\">Laura Fine</a>, <a class=\"notranslate\" href=\"/Senate/Members/Details/3338\">Laura Fine</a>, <a class=\"notranslate\" href=\"/Senate/Members/Details/3318\">Dale Fowler</a>, <a class=\"notranslate\" href=\"/Senate/Members/Details/3318\">Dale Fowler</a>, <a class=\"notranslate\" href=\"/Senate/Members/Details/3341\">Suzy Glowiak Hilton</a>, <a class=\"notranslate\" href=\"/Senate/Members/Details/3341\">Suzy Glowiak Hilton</a>, <a class=\"notranslate\" href=\"/Senate/Members/Details/3442\">Graciela Guzmán</a>, <a class=\"notranslate\" href=\"/Senate/Members/Details/3442\">Graciela Guzmán</a>, <a class=\"notranslate\" href=\"/Senate/Members/Details/3408\">Michael W. Halpin</a>, <a class=\"notranslate\" href=\"/Senate/Members/Details/3408\">Michael W. Halpin</a>, <a class=\"notranslate\" href=\"/Senate/Members/Details/3268\">Don Harmon</a>, <a class=\"notranslate\" href=\"/Senate/Members/Details/3268\">Don Harmon</a>, <a class=\"notranslate\" href=\"/Senate/Members/Details/3292\">Napoleon Harris, III</a>, <a class=\"notranslate\" href=\"/Senate/Members/Details/3292\">Napoleon Harris, III</a>, <a class=\"notranslate\" href=\"/Senate/Members/Details/3411\">Erica Harriss</a>, <a class=\"notranslate\" href=\"/Senate/Members/Details/3411\">Erica Harriss</a>, <a class=\"notranslate\" href=\"/Senate/Members/Details/3293\">Michael E. Hastings</a>, <a class=\"notranslate\" href=\"/Senate/Members/Details/3293\">Michael E. Hastings</a>, <a class=\"notranslate\" href=\"/Senate/Members/Details/3460\">Darby A. Hills</a>, <a class=\"notranslate\" href=\"/Senate/Members/Details/3460\">Darby A. Hills</a>, <a class=\"notranslate\" href=\"/Senate/Members/Details/3270\">Linda Holmes</a>, <a class=\"notranslate\" href=\"/Senate/Members/Details/3270\">Linda Holmes</a>, <a class=\"notranslate\" href=\"/Senate/Members/Details/3269\">Mattie Hunter</a>, <a class=\"notranslate\" href=\"/Senate/Members/Details/3269\">Mattie Hunter</a>, <a class=\"notranslate\" href=\"/Senate/Members/Details/3378\">Adriane Johnson</a>, <a class=\"notranslate\" href=\"/Senate/Members/Details/3378\">Adriane Johnson</a>, <a class=\"notranslate\" href=\"/Senate/Members/Details/3276\">Emil Jones, III</a>, <a class=\"notranslate\" href=\"/Senate/Members/Details/3276\">Emil Jones, III</a>, <a class=\"notranslate\" href=\"/Senate/Members/Details/3372\">Patrick J. Joyce</a>, <a class=\"notranslate\" href=\"/Senate/Members/Details/3372\">Patrick J. Joyce</a>, <a class=\"notranslate\" href=\"/Senate/Members/Details/3271\">David Koehler</a>, <a class=\"notranslate\" href=\"/Senate/Members/Details/3271\">David Koehler</a>, <a class=\"notranslate\" href=\"/Senate/Members/Details/3406\">Seth Lewis</a>, <a class=\"notranslate\" href=\"/Senate/Members/Details/3406\">Seth Lewis</a>, <a class=\"notranslate\" href=\"/Senate/Members/Details/3264\">Kimberly A. Lightford</a>, <a class=\"notranslate\" href=\"/Senate/Members/Details/3264\">Kimberly A. Lightford</a>, <a class=\"notranslate\" href=\"/Senate/Members/Details/3380\">Meg Loughran Cappel</a>, <a class=\"notranslate\" href=\"/Senate/Members/Details/3380\">Meg Loughran Cappel</a>, <a class=\"notranslate\" href=\"/Senate/Members/Details/3369\">Robert F. Martwick</a>, <a class=\"notranslate\" href=\"/Senate/Members/Details/3369\">Robert F. Martwick</a>, <a class=\"notranslate\" href=\"/Senate/Members/Details/3342\">Steve McClure</a>, <a class=\"notranslate\" href=\"/Senate/Members/Details/3342\">Steve McClure</a>, <a class=\"notranslate\" href=\"/Senate/Members/Details/3294\">Julie A. Morrison</a>, <a class=\"notranslate\" href=\"/Senate/Members/Details/3294\">Julie A. Morrison</a>, <a class=\"notranslate\" href=\"/Senate/Members/Details/3313\">Laura M. Murphy</a>, <a class=\"notranslate\" href=\"/Senate/Members/Details/3313\">Laura M. Murphy</a>, <a class=\"notranslate\" href=\"/Senate/Members/Details/3343\">Robert Peters</a>, <a class=\"notranslate\" href=\"/Senate/Members/Details/3343\">Robert Peters</a>, <a class=\"notranslate\" href=\"/Senate/Members/Details/3344\">Jason Plummer</a>, <a class=\"notranslate\" href=\"/Senate/Members/Details/3344\">Jason Plummer</a>, <a class=\"notranslate\" href=\"/Senate/Members/Details/3404\">Mike Porfirio</a>, <a class=\"notranslate\" href=\"/Senate/Members/Details/3404\">Mike Porfirio</a>, <a class=\"notranslate\" href=\"/Senate/Members/Details/3405\">Willie Preston</a>, <a class=\"notranslate\" href=\"/Senate/Members/Details/3405\">Willie Preston</a>, <a class=\"notranslate\" href=\"/Senate/Members/Details/3281\">Sue Rezin</a>, <a class=\"notranslate\" href=\"/Senate/Members/Details/3281\">Sue Rezin</a>, <a class=\"notranslate\" href=\"/Senate/Members/Details/3295\">Chapin Rose</a>, <a class=\"notranslate\" href=\"/Senate/Members/Details/3295\">Chapin Rose</a>, <a class=\"notranslate\" href=\"/Senate/Members/Details/3398\">Mike Simmons</a>, <a class=\"notranslate\" href=\"/Senate/Members/Details/3398\">Mike Simmons</a>, <a class=\"notranslate\" href=\"/Senate/Members/Details/3331\">Elgie R. Sims, Jr.</a>, <a class=\"notranslate\" href=\"/Senate/Members/Details/3331\">Elgie R. Sims, Jr.</a>, <a class=\"notranslate\" href=\"/Senate/Members/Details/3296\">Steve Stadelman</a>, <a class=\"notranslate\" href=\"/Senate/Members/Details/3296\">Steve Stadelman</a>, <a class=\"notranslate\" href=\"/Senate/Members/Details/3265\">Dave Syverson</a>, <a class=\"notranslate\" href=\"/Senate/Members/Details/3265\">Dave Syverson</a>, <a class=\"notranslate\" href=\"/Senate/Members/Details/3319\">Jil Tracy</a>, <a class=\"notranslate\" href=\"/Senate/Members/Details/3319\">Jil Tracy</a>, <a class=\"notranslate\" href=\"/Senate/Members/Details/3399\">Doris Turner</a>, <a class=\"notranslate\" href=\"/Senate/Members/Details/3399\">Doris Turner</a>, <a class=\"notranslate\" href=\"/Senate/Members/Details/3397\">Sally J. Turner</a>, <a class=\"notranslate\" href=\"/Senate/Members/Details/3397\">Sally J. Turner</a>, <a class=\"notranslate\" href=\"/Senate/Members/Details/3409\">Rachel Ventura</a>, <a class=\"notranslate\" href=\"/Senate/Members/Details/3409\">Rachel Ventura</a>, <a class=\"notranslate\" href=\"/Senate/Members/Details/3385\">Karina Villa</a>, <a class=\"notranslate\" href=\"/Senate/Members/Details/3385\">Karina Villa</a>, <a class=\"notranslate\" href=\"/Senate/Members/Details/3375\">Celina Villanueva</a>, <a class=\"notranslate\" href=\"/Senate/Members/Details/3375\">Celina Villanueva</a>, <a class=\"notranslate\" href=\"/Senate/Members/Details/3345\">Ram Villivalam</a>, <a class=\"notranslate\" href=\"/Senate/Members/Details/3345\">Ram Villivalam</a>, <a class=\"notranslate\" href=\"/Senate/Members/Details/3449\">Mark L. Walker</a>, <a class=\"notranslate\" href=\"/Senate/Members/Details/3449\">Mark L. Walker</a>, <a class=\"notranslate\" href=\"/Senate/Members/Details/3336\">Craig Wilcox</a>, <a class=\"notranslate\" href=\"/Senate/Members/Details/3336\">Craig Wilcox</a>, <a class=\"notranslate\" href=\"/Senate/Members/Details/3315\">Dan McConchie</a>, <a class=\"notranslate\" href=\"/Senate/Members/Details/3315\">Dan McConchie</a>, <a b-0yw6sxot5c=\"\" href=\"mailto:webmaster@ilga.gov?subject=Email from ILGA Web\">\n",
      "                            Contact ILGA Webmaster\n",
      "                        </a>, <a b-0yw6sxot5c=\"\" href=\"http://www.amberillinois.com\" target=\"_blank\">\n",
      "<img b-0yw6sxot5c=\"\" src=\"https://cdn.ilga.gov/assets/img/site/amber-alert-logo.png\" style=\"width: 140px;\" title=\"Illinois AMBER Alert\"/>\n",
      "</a>, <a b-0yw6sxot5c=\"\" href=\"https://www.missingkids.org\" target=\"_blank\">\n",
      "<img b-0yw6sxot5c=\"\" src=\"https://cdn.ilga.gov/assets/img/site/NCMEC-logo.png\" style=\"width: 100px;\" title=\"National Center for Missing and Exploited Children\"/>\n",
      "</a>, <a href=\"/\"><img b-0yw6sxot5c=\"\" src=\"https://cdn.ilga.gov/assets/img/site/white_capitol.png\"/><span b-0yw6sxot5c=\"\">ILGA.GOV</span></a>, <a b-0yw6sxot5c=\"\" href=\"/Disclaimers\">Disclaimers</a>, <a b-0yw6sxot5c=\"\" href=\"/Accessibility\">\n",
      "                                ADA\n",
      "                            </a>, <a b-0yw6sxot5c=\"\" href=\"mailto:webmaster@ilga.gov?subject=Email from ILGA Web\">\n",
      "                                Contact ILGA Webmaster\n",
      "                            </a>, <a b-0yw6sxot5c=\"\" href=\"http://www.amberillinois.com\" target=\"_blank\">\n",
      "<img b-0yw6sxot5c=\"\" src=\"https://cdn.ilga.gov/assets/img/site/amber-alert-logo.png\" style=\"width: 140px;\" title=\"Illinois AMBER Alert\"/>\n",
      "</a>, <a b-0yw6sxot5c=\"\" href=\"https://www.missingkids.org\" target=\"_blank\">\n",
      "<img b-0yw6sxot5c=\"\" src=\"https://cdn.ilga.gov/assets/img/site/NCMEC-logo.png\" style=\"width: 100px;\" title=\"National Center for Missing and Exploited Children\"/>\n",
      "</a>, <a href=\"/\"><img b-0yw6sxot5c=\"\" src=\"https://cdn.ilga.gov/assets/img/site/white_capitol.png\"/><span b-0yw6sxot5c=\"\">ILGA.GOV</span></a>, <a b-0yw6sxot5c=\"\" href=\"/Disclaimers\">Disclaimers</a>, <a b-0yw6sxot5c=\"\" href=\"/Accessibility\">\n",
      "                                ADA\n",
      "                            </a>, <a b-0yw6sxot5c=\"\" class=\"back-to-top d-flex align-items-center justify-content-center\" href=\"#\"><i b-0yw6sxot5c=\"\" class=\"fa fa-arrow-up\"></i></a>]\n"
     ]
    }
   ],
   "source": [
    "# Find all elements with a certain tag\n",
    "a_tags = soup.find_all(\"a\")\n",
    "print(a_tags[:1000])"
   ]
  },
  {
   "cell_type": "markdown",
   "metadata": {},
   "source": [
    "Because `find_all()` is the most popular method in the Beautiful Soup search API, you can use a shortcut for it. If you treat the BeautifulSoup object as though it were a function, then it’s the same as calling `find_all()` on that object. \n",
    "\n",
    "These two lines of code are equivalent:"
   ]
  },
  {
   "cell_type": "code",
   "execution_count": null,
   "metadata": {},
   "outputs": [],
   "source": [
    "#Aquí se demuestran dos formas diferentes (pero equivalentes) de extraer \n",
    "#etiquetas <a> usando BeautifulSoup: find_all() y el acceso directo como\n",
    "#función (soup(\"a\")). Se imprime el primer resultado de ambas listas para\n",
    "# comparar."
   ]
  },
  {
   "cell_type": "code",
   "execution_count": 7,
   "metadata": {
    "tags": []
   },
   "outputs": [
    {
     "name": "stdout",
     "output_type": "stream",
     "text": [
      "<a b-0yw6sxot5c=\"\" class=\"dropdown-item\" data-lang=\"en\" href=\"#\">\n",
      "<span b-0yw6sxot5c=\"\" class=\"flag-icon flag-icon-us\"></span> English\n",
      "                            </a>\n",
      "<a b-0yw6sxot5c=\"\" class=\"dropdown-item\" data-lang=\"en\" href=\"#\">\n",
      "<span b-0yw6sxot5c=\"\" class=\"flag-icon flag-icon-us\"></span> English\n",
      "                            </a>\n"
     ]
    }
   ],
   "source": [
    "a_tags = soup.find_all(\"a\")\n",
    "a_tags_alt = soup(\"a\")\n",
    "print(a_tags[0])\n",
    "print(a_tags_alt[0])"
   ]
  },
  {
   "cell_type": "markdown",
   "metadata": {},
   "source": [
    "How many links did we obtain?"
   ]
  },
  {
   "cell_type": "code",
   "execution_count": 73,
   "metadata": {},
   "outputs": [
    {
     "name": "stdout",
     "output_type": "stream",
     "text": [
      "270\n"
     ]
    }
   ],
   "source": [
    "print(len(a_tags))"
   ]
  },
  {
   "cell_type": "markdown",
   "metadata": {},
   "source": [
    "luego de correr los comandos se obtiene 270 registros"
   ]
  },
  {
   "cell_type": "markdown",
   "metadata": {},
   "source": [
    "That's a lot! Many elements on a page will have the same HTML tag. For instance, if you search for everything with the `a` tag, you're likely to get more hits, many of which you might not want. Remember, the `a` tag defines a hyperlink, so you'll usually find many on any given page.\n",
    "\n",
    "What if we wanted to search for HTML tags with certain attributes, such as particular CSS classes? \n",
    "\n",
    "We can do this by adding an additional argument to the `find_all`. In the example below, we are finding all the `a` tags, and then filtering those with `class_=\"sidemenu\"`."
   ]
  },
  {
   "cell_type": "markdown",
   "metadata": {},
   "source": [
    "se realiza el cambio de clase a \"notranslate\" que es la clase que guarda la variable a donde esta la informacion"
   ]
  },
  {
   "cell_type": "code",
   "execution_count": 76,
   "metadata": {
    "tags": []
   },
   "outputs": [
    {
     "data": {
      "text/plain": [
       "[<a class=\"notranslate\" href=\"/Senate/Members/Details/3312\">Neil Anderson</a>,\n",
       " <a class=\"notranslate\" href=\"/Senate/Members/Details/3312\">Neil Anderson</a>,\n",
       " <a class=\"notranslate\" href=\"/Senate/Members/Details/3316\">Omar Aquino</a>,\n",
       " <a class=\"notranslate\" href=\"/Senate/Members/Details/3316\">Omar Aquino</a>,\n",
       " <a class=\"notranslate\" href=\"/Senate/Members/Details/3383\">Li Arellano, Jr.</a>,\n",
       " <a class=\"notranslate\" href=\"/Senate/Members/Details/3383\">Li Arellano, Jr.</a>,\n",
       " <a class=\"notranslate\" href=\"/Senate/Members/Details/3413\">Chris Balkema</a>,\n",
       " <a class=\"notranslate\" href=\"/Senate/Members/Details/3413\">Chris Balkema</a>,\n",
       " <a class=\"notranslate\" href=\"/Senate/Members/Details/3337\">Christopher Belt</a>,\n",
       " <a class=\"notranslate\" href=\"/Senate/Members/Details/3337\">Christopher Belt</a>,\n",
       " <a class=\"notranslate\" href=\"/Senate/Members/Details/3386\">Terri Bryant</a>,\n",
       " <a class=\"notranslate\" href=\"/Senate/Members/Details/3386\">Terri Bryant</a>,\n",
       " <a class=\"notranslate\" href=\"/Senate/Members/Details/3317\">Cristina Castro</a>,\n",
       " <a class=\"notranslate\" href=\"/Senate/Members/Details/3317\">Cristina Castro</a>,\n",
       " <a class=\"notranslate\" href=\"/Senate/Members/Details/3403\">Javier L. Cervantes</a>,\n",
       " <a class=\"notranslate\" href=\"/Senate/Members/Details/3403\">Javier L. Cervantes</a>,\n",
       " <a class=\"notranslate\" href=\"/Senate/Members/Details/3410\">Andrew S. Chesney</a>,\n",
       " <a class=\"notranslate\" href=\"/Senate/Members/Details/3410\">Andrew S. Chesney</a>,\n",
       " <a class=\"notranslate\" href=\"/Senate/Members/Details/3443\">Lakesia Collins</a>,\n",
       " <a class=\"notranslate\" href=\"/Senate/Members/Details/3443\">Lakesia Collins</a>,\n",
       " <a class=\"notranslate\" href=\"/Senate/Members/Details/3291\">Bill Cunningham</a>,\n",
       " <a class=\"notranslate\" href=\"/Senate/Members/Details/3291\">Bill Cunningham</a>,\n",
       " <a class=\"notranslate\" href=\"/Senate/Members/Details/3329\">John F. Curran</a>,\n",
       " <a class=\"notranslate\" href=\"/Senate/Members/Details/3329\">John F. Curran</a>,\n",
       " <a class=\"notranslate\" href=\"/Senate/Members/Details/3334\">Donald P. DeWitte</a>,\n",
       " <a class=\"notranslate\" href=\"/Senate/Members/Details/3334\">Donald P. DeWitte</a>,\n",
       " <a class=\"notranslate\" href=\"/Senate/Members/Details/3407\">Mary Edly-Allen</a>,\n",
       " <a class=\"notranslate\" href=\"/Senate/Members/Details/3407\">Mary Edly-Allen</a>,\n",
       " <a class=\"notranslate\" href=\"/Senate/Members/Details/3339\">Laura Ellman</a>,\n",
       " <a class=\"notranslate\" href=\"/Senate/Members/Details/3339\">Laura Ellman</a>,\n",
       " <a class=\"notranslate\" href=\"/Senate/Members/Details/3412\">Paul Faraci</a>,\n",
       " <a class=\"notranslate\" href=\"/Senate/Members/Details/3412\">Paul Faraci</a>,\n",
       " <a class=\"notranslate\" href=\"/Senate/Members/Details/3376\">Sara Feigenholtz</a>,\n",
       " <a class=\"notranslate\" href=\"/Senate/Members/Details/3376\">Sara Feigenholtz</a>,\n",
       " <a class=\"notranslate\" href=\"/Senate/Members/Details/3338\">Laura Fine</a>,\n",
       " <a class=\"notranslate\" href=\"/Senate/Members/Details/3338\">Laura Fine</a>,\n",
       " <a class=\"notranslate\" href=\"/Senate/Members/Details/3318\">Dale Fowler</a>,\n",
       " <a class=\"notranslate\" href=\"/Senate/Members/Details/3318\">Dale Fowler</a>,\n",
       " <a class=\"notranslate\" href=\"/Senate/Members/Details/3341\">Suzy Glowiak Hilton</a>,\n",
       " <a class=\"notranslate\" href=\"/Senate/Members/Details/3341\">Suzy Glowiak Hilton</a>,\n",
       " <a class=\"notranslate\" href=\"/Senate/Members/Details/3442\">Graciela Guzmán</a>,\n",
       " <a class=\"notranslate\" href=\"/Senate/Members/Details/3442\">Graciela Guzmán</a>,\n",
       " <a class=\"notranslate\" href=\"/Senate/Members/Details/3408\">Michael W. Halpin</a>,\n",
       " <a class=\"notranslate\" href=\"/Senate/Members/Details/3408\">Michael W. Halpin</a>,\n",
       " <a class=\"notranslate\" href=\"/Senate/Members/Details/3268\">Don Harmon</a>,\n",
       " <a class=\"notranslate\" href=\"/Senate/Members/Details/3268\">Don Harmon</a>,\n",
       " <a class=\"notranslate\" href=\"/Senate/Members/Details/3292\">Napoleon Harris, III</a>,\n",
       " <a class=\"notranslate\" href=\"/Senate/Members/Details/3292\">Napoleon Harris, III</a>,\n",
       " <a class=\"notranslate\" href=\"/Senate/Members/Details/3411\">Erica Harriss</a>,\n",
       " <a class=\"notranslate\" href=\"/Senate/Members/Details/3411\">Erica Harriss</a>]"
      ]
     },
     "execution_count": 76,
     "metadata": {},
     "output_type": "execute_result"
    }
   ],
   "source": [
    "# Get only the 'a' tags in 'notranslate' class\n",
    "side_menus = soup(\"a\", class_=\"notranslate\")\n",
    "side_menus[:50]"
   ]
  },
  {
   "cell_type": "markdown",
   "metadata": {},
   "source": [
    "A more efficient way to search for elements on a website is via a **CSS selector**. For this we have to use a different method called `select()`. Just pass a string into the `.select()` to get all elements with that string as a valid CSS selector.\n",
    "\n",
    "In the example above, we can use `\"a.sidemenu\"` as a CSS selector, which returns all `a` tags with class `sidemenu`."
   ]
  },
  {
   "cell_type": "code",
   "execution_count": 78,
   "metadata": {
    "tags": []
   },
   "outputs": [
    {
     "data": {
      "text/plain": [
       "[<a class=\"notranslate\" href=\"/Senate/Members/Details/3312\">Neil Anderson</a>,\n",
       " <a class=\"notranslate\" href=\"/Senate/Members/Details/3312\">Neil Anderson</a>,\n",
       " <a class=\"notranslate\" href=\"/Senate/Members/Details/3316\">Omar Aquino</a>,\n",
       " <a class=\"notranslate\" href=\"/Senate/Members/Details/3316\">Omar Aquino</a>,\n",
       " <a class=\"notranslate\" href=\"/Senate/Members/Details/3383\">Li Arellano, Jr.</a>,\n",
       " <a class=\"notranslate\" href=\"/Senate/Members/Details/3383\">Li Arellano, Jr.</a>,\n",
       " <a class=\"notranslate\" href=\"/Senate/Members/Details/3413\">Chris Balkema</a>,\n",
       " <a class=\"notranslate\" href=\"/Senate/Members/Details/3413\">Chris Balkema</a>,\n",
       " <a class=\"notranslate\" href=\"/Senate/Members/Details/3337\">Christopher Belt</a>,\n",
       " <a class=\"notranslate\" href=\"/Senate/Members/Details/3337\">Christopher Belt</a>,\n",
       " <a class=\"notranslate\" href=\"/Senate/Members/Details/3386\">Terri Bryant</a>,\n",
       " <a class=\"notranslate\" href=\"/Senate/Members/Details/3386\">Terri Bryant</a>,\n",
       " <a class=\"notranslate\" href=\"/Senate/Members/Details/3317\">Cristina Castro</a>,\n",
       " <a class=\"notranslate\" href=\"/Senate/Members/Details/3317\">Cristina Castro</a>,\n",
       " <a class=\"notranslate\" href=\"/Senate/Members/Details/3403\">Javier L. Cervantes</a>,\n",
       " <a class=\"notranslate\" href=\"/Senate/Members/Details/3403\">Javier L. Cervantes</a>,\n",
       " <a class=\"notranslate\" href=\"/Senate/Members/Details/3410\">Andrew S. Chesney</a>,\n",
       " <a class=\"notranslate\" href=\"/Senate/Members/Details/3410\">Andrew S. Chesney</a>,\n",
       " <a class=\"notranslate\" href=\"/Senate/Members/Details/3443\">Lakesia Collins</a>,\n",
       " <a class=\"notranslate\" href=\"/Senate/Members/Details/3443\">Lakesia Collins</a>,\n",
       " <a class=\"notranslate\" href=\"/Senate/Members/Details/3291\">Bill Cunningham</a>,\n",
       " <a class=\"notranslate\" href=\"/Senate/Members/Details/3291\">Bill Cunningham</a>,\n",
       " <a class=\"notranslate\" href=\"/Senate/Members/Details/3329\">John F. Curran</a>,\n",
       " <a class=\"notranslate\" href=\"/Senate/Members/Details/3329\">John F. Curran</a>,\n",
       " <a class=\"notranslate\" href=\"/Senate/Members/Details/3334\">Donald P. DeWitte</a>,\n",
       " <a class=\"notranslate\" href=\"/Senate/Members/Details/3334\">Donald P. DeWitte</a>,\n",
       " <a class=\"notranslate\" href=\"/Senate/Members/Details/3407\">Mary Edly-Allen</a>,\n",
       " <a class=\"notranslate\" href=\"/Senate/Members/Details/3407\">Mary Edly-Allen</a>,\n",
       " <a class=\"notranslate\" href=\"/Senate/Members/Details/3339\">Laura Ellman</a>,\n",
       " <a class=\"notranslate\" href=\"/Senate/Members/Details/3339\">Laura Ellman</a>,\n",
       " <a class=\"notranslate\" href=\"/Senate/Members/Details/3412\">Paul Faraci</a>,\n",
       " <a class=\"notranslate\" href=\"/Senate/Members/Details/3412\">Paul Faraci</a>,\n",
       " <a class=\"notranslate\" href=\"/Senate/Members/Details/3376\">Sara Feigenholtz</a>,\n",
       " <a class=\"notranslate\" href=\"/Senate/Members/Details/3376\">Sara Feigenholtz</a>,\n",
       " <a class=\"notranslate\" href=\"/Senate/Members/Details/3338\">Laura Fine</a>,\n",
       " <a class=\"notranslate\" href=\"/Senate/Members/Details/3338\">Laura Fine</a>,\n",
       " <a class=\"notranslate\" href=\"/Senate/Members/Details/3318\">Dale Fowler</a>,\n",
       " <a class=\"notranslate\" href=\"/Senate/Members/Details/3318\">Dale Fowler</a>,\n",
       " <a class=\"notranslate\" href=\"/Senate/Members/Details/3341\">Suzy Glowiak Hilton</a>,\n",
       " <a class=\"notranslate\" href=\"/Senate/Members/Details/3341\">Suzy Glowiak Hilton</a>,\n",
       " <a class=\"notranslate\" href=\"/Senate/Members/Details/3442\">Graciela Guzmán</a>,\n",
       " <a class=\"notranslate\" href=\"/Senate/Members/Details/3442\">Graciela Guzmán</a>,\n",
       " <a class=\"notranslate\" href=\"/Senate/Members/Details/3408\">Michael W. Halpin</a>,\n",
       " <a class=\"notranslate\" href=\"/Senate/Members/Details/3408\">Michael W. Halpin</a>,\n",
       " <a class=\"notranslate\" href=\"/Senate/Members/Details/3268\">Don Harmon</a>,\n",
       " <a class=\"notranslate\" href=\"/Senate/Members/Details/3268\">Don Harmon</a>,\n",
       " <a class=\"notranslate\" href=\"/Senate/Members/Details/3292\">Napoleon Harris, III</a>,\n",
       " <a class=\"notranslate\" href=\"/Senate/Members/Details/3292\">Napoleon Harris, III</a>,\n",
       " <a class=\"notranslate\" href=\"/Senate/Members/Details/3411\">Erica Harriss</a>,\n",
       " <a class=\"notranslate\" href=\"/Senate/Members/Details/3411\">Erica Harriss</a>]"
      ]
     },
     "execution_count": 78,
     "metadata": {},
     "output_type": "execute_result"
    }
   ],
   "source": [
    "# Get elements with \"a.notranslate\" CSS Selector.\n",
    "selected = soup.select(\"a.notranslate\")\n",
    "selected[:50]"
   ]
  },
  {
   "cell_type": "markdown",
   "metadata": {},
   "source": [
    "Se obtiene la informacion de los senadores de Illinois"
   ]
  },
  {
   "cell_type": "markdown",
   "metadata": {},
   "source": [
    "## 🥊 Challenge: Find All\n",
    "\n",
    "Use BeautifulSoup to find all the `a` elements with class `notranslate`."
   ]
  },
  {
   "cell_type": "code",
   "execution_count": 79,
   "metadata": {},
   "outputs": [
    {
     "data": {
      "text/plain": [
       "[<a class=\"notranslate\" href=\"/Senate/Members/Details/3312\">Neil Anderson</a>,\n",
       " <a class=\"notranslate\" href=\"/Senate/Members/Details/3312\">Neil Anderson</a>,\n",
       " <a class=\"notranslate\" href=\"/Senate/Members/Details/3316\">Omar Aquino</a>,\n",
       " <a class=\"notranslate\" href=\"/Senate/Members/Details/3316\">Omar Aquino</a>,\n",
       " <a class=\"notranslate\" href=\"/Senate/Members/Details/3383\">Li Arellano, Jr.</a>,\n",
       " <a class=\"notranslate\" href=\"/Senate/Members/Details/3383\">Li Arellano, Jr.</a>,\n",
       " <a class=\"notranslate\" href=\"/Senate/Members/Details/3413\">Chris Balkema</a>,\n",
       " <a class=\"notranslate\" href=\"/Senate/Members/Details/3413\">Chris Balkema</a>,\n",
       " <a class=\"notranslate\" href=\"/Senate/Members/Details/3337\">Christopher Belt</a>,\n",
       " <a class=\"notranslate\" href=\"/Senate/Members/Details/3337\">Christopher Belt</a>,\n",
       " <a class=\"notranslate\" href=\"/Senate/Members/Details/3386\">Terri Bryant</a>,\n",
       " <a class=\"notranslate\" href=\"/Senate/Members/Details/3386\">Terri Bryant</a>,\n",
       " <a class=\"notranslate\" href=\"/Senate/Members/Details/3317\">Cristina Castro</a>,\n",
       " <a class=\"notranslate\" href=\"/Senate/Members/Details/3317\">Cristina Castro</a>,\n",
       " <a class=\"notranslate\" href=\"/Senate/Members/Details/3403\">Javier L. Cervantes</a>,\n",
       " <a class=\"notranslate\" href=\"/Senate/Members/Details/3403\">Javier L. Cervantes</a>,\n",
       " <a class=\"notranslate\" href=\"/Senate/Members/Details/3410\">Andrew S. Chesney</a>,\n",
       " <a class=\"notranslate\" href=\"/Senate/Members/Details/3410\">Andrew S. Chesney</a>,\n",
       " <a class=\"notranslate\" href=\"/Senate/Members/Details/3443\">Lakesia Collins</a>,\n",
       " <a class=\"notranslate\" href=\"/Senate/Members/Details/3443\">Lakesia Collins</a>,\n",
       " <a class=\"notranslate\" href=\"/Senate/Members/Details/3291\">Bill Cunningham</a>,\n",
       " <a class=\"notranslate\" href=\"/Senate/Members/Details/3291\">Bill Cunningham</a>,\n",
       " <a class=\"notranslate\" href=\"/Senate/Members/Details/3329\">John F. Curran</a>,\n",
       " <a class=\"notranslate\" href=\"/Senate/Members/Details/3329\">John F. Curran</a>,\n",
       " <a class=\"notranslate\" href=\"/Senate/Members/Details/3334\">Donald P. DeWitte</a>,\n",
       " <a class=\"notranslate\" href=\"/Senate/Members/Details/3334\">Donald P. DeWitte</a>,\n",
       " <a class=\"notranslate\" href=\"/Senate/Members/Details/3407\">Mary Edly-Allen</a>,\n",
       " <a class=\"notranslate\" href=\"/Senate/Members/Details/3407\">Mary Edly-Allen</a>,\n",
       " <a class=\"notranslate\" href=\"/Senate/Members/Details/3339\">Laura Ellman</a>,\n",
       " <a class=\"notranslate\" href=\"/Senate/Members/Details/3339\">Laura Ellman</a>,\n",
       " <a class=\"notranslate\" href=\"/Senate/Members/Details/3412\">Paul Faraci</a>,\n",
       " <a class=\"notranslate\" href=\"/Senate/Members/Details/3412\">Paul Faraci</a>,\n",
       " <a class=\"notranslate\" href=\"/Senate/Members/Details/3376\">Sara Feigenholtz</a>,\n",
       " <a class=\"notranslate\" href=\"/Senate/Members/Details/3376\">Sara Feigenholtz</a>,\n",
       " <a class=\"notranslate\" href=\"/Senate/Members/Details/3338\">Laura Fine</a>,\n",
       " <a class=\"notranslate\" href=\"/Senate/Members/Details/3338\">Laura Fine</a>,\n",
       " <a class=\"notranslate\" href=\"/Senate/Members/Details/3318\">Dale Fowler</a>,\n",
       " <a class=\"notranslate\" href=\"/Senate/Members/Details/3318\">Dale Fowler</a>,\n",
       " <a class=\"notranslate\" href=\"/Senate/Members/Details/3341\">Suzy Glowiak Hilton</a>,\n",
       " <a class=\"notranslate\" href=\"/Senate/Members/Details/3341\">Suzy Glowiak Hilton</a>,\n",
       " <a class=\"notranslate\" href=\"/Senate/Members/Details/3442\">Graciela Guzmán</a>,\n",
       " <a class=\"notranslate\" href=\"/Senate/Members/Details/3442\">Graciela Guzmán</a>,\n",
       " <a class=\"notranslate\" href=\"/Senate/Members/Details/3408\">Michael W. Halpin</a>,\n",
       " <a class=\"notranslate\" href=\"/Senate/Members/Details/3408\">Michael W. Halpin</a>,\n",
       " <a class=\"notranslate\" href=\"/Senate/Members/Details/3268\">Don Harmon</a>,\n",
       " <a class=\"notranslate\" href=\"/Senate/Members/Details/3268\">Don Harmon</a>,\n",
       " <a class=\"notranslate\" href=\"/Senate/Members/Details/3292\">Napoleon Harris, III</a>,\n",
       " <a class=\"notranslate\" href=\"/Senate/Members/Details/3292\">Napoleon Harris, III</a>,\n",
       " <a class=\"notranslate\" href=\"/Senate/Members/Details/3411\">Erica Harriss</a>,\n",
       " <a class=\"notranslate\" href=\"/Senate/Members/Details/3411\">Erica Harriss</a>,\n",
       " <a class=\"notranslate\" href=\"/Senate/Members/Details/3293\">Michael E. Hastings</a>,\n",
       " <a class=\"notranslate\" href=\"/Senate/Members/Details/3293\">Michael E. Hastings</a>,\n",
       " <a class=\"notranslate\" href=\"/Senate/Members/Details/3460\">Darby A. Hills</a>,\n",
       " <a class=\"notranslate\" href=\"/Senate/Members/Details/3460\">Darby A. Hills</a>,\n",
       " <a class=\"notranslate\" href=\"/Senate/Members/Details/3270\">Linda Holmes</a>,\n",
       " <a class=\"notranslate\" href=\"/Senate/Members/Details/3270\">Linda Holmes</a>,\n",
       " <a class=\"notranslate\" href=\"/Senate/Members/Details/3269\">Mattie Hunter</a>,\n",
       " <a class=\"notranslate\" href=\"/Senate/Members/Details/3269\">Mattie Hunter</a>,\n",
       " <a class=\"notranslate\" href=\"/Senate/Members/Details/3378\">Adriane Johnson</a>,\n",
       " <a class=\"notranslate\" href=\"/Senate/Members/Details/3378\">Adriane Johnson</a>,\n",
       " <a class=\"notranslate\" href=\"/Senate/Members/Details/3276\">Emil Jones, III</a>,\n",
       " <a class=\"notranslate\" href=\"/Senate/Members/Details/3276\">Emil Jones, III</a>,\n",
       " <a class=\"notranslate\" href=\"/Senate/Members/Details/3372\">Patrick J. Joyce</a>,\n",
       " <a class=\"notranslate\" href=\"/Senate/Members/Details/3372\">Patrick J. Joyce</a>,\n",
       " <a class=\"notranslate\" href=\"/Senate/Members/Details/3271\">David Koehler</a>,\n",
       " <a class=\"notranslate\" href=\"/Senate/Members/Details/3271\">David Koehler</a>,\n",
       " <a class=\"notranslate\" href=\"/Senate/Members/Details/3406\">Seth Lewis</a>,\n",
       " <a class=\"notranslate\" href=\"/Senate/Members/Details/3406\">Seth Lewis</a>,\n",
       " <a class=\"notranslate\" href=\"/Senate/Members/Details/3264\">Kimberly A. Lightford</a>,\n",
       " <a class=\"notranslate\" href=\"/Senate/Members/Details/3264\">Kimberly A. Lightford</a>,\n",
       " <a class=\"notranslate\" href=\"/Senate/Members/Details/3380\">Meg Loughran Cappel</a>,\n",
       " <a class=\"notranslate\" href=\"/Senate/Members/Details/3380\">Meg Loughran Cappel</a>,\n",
       " <a class=\"notranslate\" href=\"/Senate/Members/Details/3369\">Robert F. Martwick</a>,\n",
       " <a class=\"notranslate\" href=\"/Senate/Members/Details/3369\">Robert F. Martwick</a>,\n",
       " <a class=\"notranslate\" href=\"/Senate/Members/Details/3342\">Steve McClure</a>,\n",
       " <a class=\"notranslate\" href=\"/Senate/Members/Details/3342\">Steve McClure</a>,\n",
       " <a class=\"notranslate\" href=\"/Senate/Members/Details/3294\">Julie A. Morrison</a>,\n",
       " <a class=\"notranslate\" href=\"/Senate/Members/Details/3294\">Julie A. Morrison</a>,\n",
       " <a class=\"notranslate\" href=\"/Senate/Members/Details/3313\">Laura M. Murphy</a>,\n",
       " <a class=\"notranslate\" href=\"/Senate/Members/Details/3313\">Laura M. Murphy</a>,\n",
       " <a class=\"notranslate\" href=\"/Senate/Members/Details/3343\">Robert Peters</a>,\n",
       " <a class=\"notranslate\" href=\"/Senate/Members/Details/3343\">Robert Peters</a>,\n",
       " <a class=\"notranslate\" href=\"/Senate/Members/Details/3344\">Jason Plummer</a>,\n",
       " <a class=\"notranslate\" href=\"/Senate/Members/Details/3344\">Jason Plummer</a>,\n",
       " <a class=\"notranslate\" href=\"/Senate/Members/Details/3404\">Mike Porfirio</a>,\n",
       " <a class=\"notranslate\" href=\"/Senate/Members/Details/3404\">Mike Porfirio</a>,\n",
       " <a class=\"notranslate\" href=\"/Senate/Members/Details/3405\">Willie Preston</a>,\n",
       " <a class=\"notranslate\" href=\"/Senate/Members/Details/3405\">Willie Preston</a>,\n",
       " <a class=\"notranslate\" href=\"/Senate/Members/Details/3281\">Sue Rezin</a>,\n",
       " <a class=\"notranslate\" href=\"/Senate/Members/Details/3281\">Sue Rezin</a>,\n",
       " <a class=\"notranslate\" href=\"/Senate/Members/Details/3295\">Chapin Rose</a>,\n",
       " <a class=\"notranslate\" href=\"/Senate/Members/Details/3295\">Chapin Rose</a>,\n",
       " <a class=\"notranslate\" href=\"/Senate/Members/Details/3398\">Mike Simmons</a>,\n",
       " <a class=\"notranslate\" href=\"/Senate/Members/Details/3398\">Mike Simmons</a>,\n",
       " <a class=\"notranslate\" href=\"/Senate/Members/Details/3331\">Elgie R. Sims, Jr.</a>,\n",
       " <a class=\"notranslate\" href=\"/Senate/Members/Details/3331\">Elgie R. Sims, Jr.</a>,\n",
       " <a class=\"notranslate\" href=\"/Senate/Members/Details/3296\">Steve Stadelman</a>,\n",
       " <a class=\"notranslate\" href=\"/Senate/Members/Details/3296\">Steve Stadelman</a>,\n",
       " <a class=\"notranslate\" href=\"/Senate/Members/Details/3265\">Dave Syverson</a>,\n",
       " <a class=\"notranslate\" href=\"/Senate/Members/Details/3265\">Dave Syverson</a>,\n",
       " <a class=\"notranslate\" href=\"/Senate/Members/Details/3319\">Jil Tracy</a>,\n",
       " <a class=\"notranslate\" href=\"/Senate/Members/Details/3319\">Jil Tracy</a>,\n",
       " <a class=\"notranslate\" href=\"/Senate/Members/Details/3399\">Doris Turner</a>,\n",
       " <a class=\"notranslate\" href=\"/Senate/Members/Details/3399\">Doris Turner</a>,\n",
       " <a class=\"notranslate\" href=\"/Senate/Members/Details/3397\">Sally J. Turner</a>,\n",
       " <a class=\"notranslate\" href=\"/Senate/Members/Details/3397\">Sally J. Turner</a>,\n",
       " <a class=\"notranslate\" href=\"/Senate/Members/Details/3409\">Rachel Ventura</a>,\n",
       " <a class=\"notranslate\" href=\"/Senate/Members/Details/3409\">Rachel Ventura</a>,\n",
       " <a class=\"notranslate\" href=\"/Senate/Members/Details/3385\">Karina Villa</a>,\n",
       " <a class=\"notranslate\" href=\"/Senate/Members/Details/3385\">Karina Villa</a>,\n",
       " <a class=\"notranslate\" href=\"/Senate/Members/Details/3375\">Celina Villanueva</a>,\n",
       " <a class=\"notranslate\" href=\"/Senate/Members/Details/3375\">Celina Villanueva</a>,\n",
       " <a class=\"notranslate\" href=\"/Senate/Members/Details/3345\">Ram Villivalam</a>,\n",
       " <a class=\"notranslate\" href=\"/Senate/Members/Details/3345\">Ram Villivalam</a>,\n",
       " <a class=\"notranslate\" href=\"/Senate/Members/Details/3449\">Mark L. Walker</a>,\n",
       " <a class=\"notranslate\" href=\"/Senate/Members/Details/3449\">Mark L. Walker</a>,\n",
       " <a class=\"notranslate\" href=\"/Senate/Members/Details/3336\">Craig Wilcox</a>,\n",
       " <a class=\"notranslate\" href=\"/Senate/Members/Details/3336\">Craig Wilcox</a>,\n",
       " <a class=\"notranslate\" href=\"/Senate/Members/Details/3315\">Dan McConchie</a>,\n",
       " <a class=\"notranslate\" href=\"/Senate/Members/Details/3315\">Dan McConchie</a>]"
      ]
     },
     "execution_count": 79,
     "metadata": {},
     "output_type": "execute_result"
    }
   ],
   "source": [
    "# YOUR CODE HERE\n",
    "soup.select(\"a.notranslate\")"
   ]
  },
  {
   "cell_type": "markdown",
   "metadata": {},
   "source": [
    "## Step 4: Get Attributes and Text of Elements\n",
    "\n",
    "Once we identify elements, we want the access information in that element. Usually, this means two things:\n",
    "\n",
    "1. Text\n",
    "2. Attributes\n",
    "\n",
    "Getting the text inside an element is easy. All we have to do is use the `text` member of a `tag` object:"
   ]
  },
  {
   "cell_type": "code",
   "execution_count": 80,
   "metadata": {
    "tags": []
   },
   "outputs": [
    {
     "name": "stdout",
     "output_type": "stream",
     "text": [
      "<a class=\"notranslate\" href=\"/Senate/Members/Details/3312\">Neil Anderson</a>\n",
      "Class:  <class 'bs4.element.Tag'>\n"
     ]
    }
   ],
   "source": [
    "# Get all sidemenu links as a list\n",
    "side_menu_links = soup.select(\"a.notranslate\")\n",
    "\n",
    "# Examine the first link, if available\n",
    "if side_menu_links:\n",
    "\tfirst_link = side_menu_links[0]\n",
    "\tprint(first_link)\n",
    "\t# What class is this variable?\n",
    "\tprint('Class: ', type(first_link))\n",
    "else:\n",
    "\tprint(\"No sidemenu links found.\")"
   ]
  },
  {
   "cell_type": "markdown",
   "metadata": {},
   "source": [
    "It's a Beautiful Soup tag! This means it has a `text` member:"
   ]
  },
  {
   "cell_type": "code",
   "execution_count": 81,
   "metadata": {
    "tags": []
   },
   "outputs": [
    {
     "name": "stdout",
     "output_type": "stream",
     "text": [
      "Neil Anderson\n"
     ]
    }
   ],
   "source": [
    "# Get all sidemenu links as a list\n",
    "side_menu_links = soup.select(\"a.notranslate\")\n",
    "\n",
    "# Examine the first link, if available\n",
    "if side_menu_links:\n",
    "\tfirst_link = side_menu_links[0]\n",
    "\tprint(first_link.text)\n",
    "else:\n",
    "\tprint(\"No sidemenu links found.\")"
   ]
  },
  {
   "cell_type": "markdown",
   "metadata": {},
   "source": [
    "Sometimes we want the value of certain attributes. This is particularly relevant for `a` tags, or links, where the `href` attribute tells us where the link goes.\n",
    "\n",
    "💡 **Tip**: You can access a tag’s attributes by treating the tag like a dictionary:"
   ]
  },
  {
   "cell_type": "code",
   "execution_count": 82,
   "metadata": {
    "tags": []
   },
   "outputs": [
    {
     "name": "stdout",
     "output_type": "stream",
     "text": [
      "/Senate/Members/Details/3312\n"
     ]
    }
   ],
   "source": [
    "print(first_link.get('href'))"
   ]
  },
  {
   "cell_type": "markdown",
   "metadata": {},
   "source": [
    "## 🥊 Challenge: Extract specific attributes\n",
    "\n",
    "Extract all `href` attributes for each `mainmenu` URL."
   ]
  },
  {
   "cell_type": "code",
   "execution_count": 84,
   "metadata": {},
   "outputs": [
    {
     "data": {
      "text/plain": [
       "['/Senate/Members/Details/3312',\n",
       " '/Senate/Members/Details/3312',\n",
       " '/Senate/Members/Details/3316',\n",
       " '/Senate/Members/Details/3316',\n",
       " '/Senate/Members/Details/3383',\n",
       " '/Senate/Members/Details/3383',\n",
       " '/Senate/Members/Details/3413',\n",
       " '/Senate/Members/Details/3413',\n",
       " '/Senate/Members/Details/3337',\n",
       " '/Senate/Members/Details/3337',\n",
       " '/Senate/Members/Details/3386',\n",
       " '/Senate/Members/Details/3386',\n",
       " '/Senate/Members/Details/3317',\n",
       " '/Senate/Members/Details/3317',\n",
       " '/Senate/Members/Details/3403',\n",
       " '/Senate/Members/Details/3403',\n",
       " '/Senate/Members/Details/3410',\n",
       " '/Senate/Members/Details/3410',\n",
       " '/Senate/Members/Details/3443',\n",
       " '/Senate/Members/Details/3443',\n",
       " '/Senate/Members/Details/3291',\n",
       " '/Senate/Members/Details/3291',\n",
       " '/Senate/Members/Details/3329',\n",
       " '/Senate/Members/Details/3329',\n",
       " '/Senate/Members/Details/3334',\n",
       " '/Senate/Members/Details/3334',\n",
       " '/Senate/Members/Details/3407',\n",
       " '/Senate/Members/Details/3407',\n",
       " '/Senate/Members/Details/3339',\n",
       " '/Senate/Members/Details/3339',\n",
       " '/Senate/Members/Details/3412',\n",
       " '/Senate/Members/Details/3412',\n",
       " '/Senate/Members/Details/3376',\n",
       " '/Senate/Members/Details/3376',\n",
       " '/Senate/Members/Details/3338',\n",
       " '/Senate/Members/Details/3338',\n",
       " '/Senate/Members/Details/3318',\n",
       " '/Senate/Members/Details/3318',\n",
       " '/Senate/Members/Details/3341',\n",
       " '/Senate/Members/Details/3341',\n",
       " '/Senate/Members/Details/3442',\n",
       " '/Senate/Members/Details/3442',\n",
       " '/Senate/Members/Details/3408',\n",
       " '/Senate/Members/Details/3408',\n",
       " '/Senate/Members/Details/3268',\n",
       " '/Senate/Members/Details/3268',\n",
       " '/Senate/Members/Details/3292',\n",
       " '/Senate/Members/Details/3292',\n",
       " '/Senate/Members/Details/3411',\n",
       " '/Senate/Members/Details/3411',\n",
       " '/Senate/Members/Details/3293',\n",
       " '/Senate/Members/Details/3293',\n",
       " '/Senate/Members/Details/3460',\n",
       " '/Senate/Members/Details/3460',\n",
       " '/Senate/Members/Details/3270',\n",
       " '/Senate/Members/Details/3270',\n",
       " '/Senate/Members/Details/3269',\n",
       " '/Senate/Members/Details/3269',\n",
       " '/Senate/Members/Details/3378',\n",
       " '/Senate/Members/Details/3378',\n",
       " '/Senate/Members/Details/3276',\n",
       " '/Senate/Members/Details/3276',\n",
       " '/Senate/Members/Details/3372',\n",
       " '/Senate/Members/Details/3372',\n",
       " '/Senate/Members/Details/3271',\n",
       " '/Senate/Members/Details/3271',\n",
       " '/Senate/Members/Details/3406',\n",
       " '/Senate/Members/Details/3406',\n",
       " '/Senate/Members/Details/3264',\n",
       " '/Senate/Members/Details/3264',\n",
       " '/Senate/Members/Details/3380',\n",
       " '/Senate/Members/Details/3380',\n",
       " '/Senate/Members/Details/3369',\n",
       " '/Senate/Members/Details/3369',\n",
       " '/Senate/Members/Details/3342',\n",
       " '/Senate/Members/Details/3342',\n",
       " '/Senate/Members/Details/3294',\n",
       " '/Senate/Members/Details/3294',\n",
       " '/Senate/Members/Details/3313',\n",
       " '/Senate/Members/Details/3313',\n",
       " '/Senate/Members/Details/3343',\n",
       " '/Senate/Members/Details/3343',\n",
       " '/Senate/Members/Details/3344',\n",
       " '/Senate/Members/Details/3344',\n",
       " '/Senate/Members/Details/3404',\n",
       " '/Senate/Members/Details/3404',\n",
       " '/Senate/Members/Details/3405',\n",
       " '/Senate/Members/Details/3405',\n",
       " '/Senate/Members/Details/3281',\n",
       " '/Senate/Members/Details/3281',\n",
       " '/Senate/Members/Details/3295',\n",
       " '/Senate/Members/Details/3295',\n",
       " '/Senate/Members/Details/3398',\n",
       " '/Senate/Members/Details/3398',\n",
       " '/Senate/Members/Details/3331',\n",
       " '/Senate/Members/Details/3331',\n",
       " '/Senate/Members/Details/3296',\n",
       " '/Senate/Members/Details/3296',\n",
       " '/Senate/Members/Details/3265',\n",
       " '/Senate/Members/Details/3265',\n",
       " '/Senate/Members/Details/3319',\n",
       " '/Senate/Members/Details/3319',\n",
       " '/Senate/Members/Details/3399',\n",
       " '/Senate/Members/Details/3399',\n",
       " '/Senate/Members/Details/3397',\n",
       " '/Senate/Members/Details/3397',\n",
       " '/Senate/Members/Details/3409',\n",
       " '/Senate/Members/Details/3409',\n",
       " '/Senate/Members/Details/3385',\n",
       " '/Senate/Members/Details/3385',\n",
       " '/Senate/Members/Details/3375',\n",
       " '/Senate/Members/Details/3375',\n",
       " '/Senate/Members/Details/3345',\n",
       " '/Senate/Members/Details/3345',\n",
       " '/Senate/Members/Details/3449',\n",
       " '/Senate/Members/Details/3449',\n",
       " '/Senate/Members/Details/3336',\n",
       " '/Senate/Members/Details/3336',\n",
       " '/Senate/Members/Details/3315',\n",
       " '/Senate/Members/Details/3315']"
      ]
     },
     "execution_count": 84,
     "metadata": {},
     "output_type": "execute_result"
    }
   ],
   "source": [
    "[link['href'] for link in soup.select(\"a.notranslate\")]\n"
   ]
  },
  {
   "cell_type": "markdown",
   "metadata": {},
   "source": [
    "<a id='scrape'></a>\n",
    "\n",
    "# Scraping the Illinois General Assembly\n",
    "\n",
    "Believe it or not, those are really the fundamental tools you need to scrape a website. Once you spend more time familiarizing yourself with HTML and CSS, then it's simply a matter of understanding the structure of a particular website and intelligently applying the tools of Beautiful Soup and Python.\n",
    "\n",
    "Let's apply these skills to scrape the [Illinois 98th General Assembly](http://www.ilga.gov/senate/default.asp?GA=98).\n",
    "\n",
    "Specifically, our goal is to scrape information on each senator, including their name, district, and party."
   ]
  },
  {
   "cell_type": "markdown",
   "metadata": {},
   "source": [
    "## Scrape and Soup the Webpage\n",
    "\n",
    "Let's scrape and parse the webpage, using the tools we learned in the previous section."
   ]
  },
  {
   "cell_type": "code",
   "execution_count": 110,
   "metadata": {
    "tags": []
   },
   "outputs": [],
   "source": [
    "# Make a GET request\n",
    "req = requests.get('https://www.ilga.gov/Senate/Members/List')\n",
    "# Read the content of the server’s response\n",
    "src = req.text\n",
    "# Soup it\n",
    "soup = BeautifulSoup(src, \"lxml\")"
   ]
  },
  {
   "cell_type": "markdown",
   "metadata": {},
   "source": [
    "## Search for the Table Elements\n",
    "\n",
    "Our goal is to obtain the elements in the table on the webpage. Remember: rows are identified by the `tr` tag. Let's use `find_all` to obtain these elements."
   ]
  },
  {
   "cell_type": "code",
   "execution_count": 111,
   "metadata": {},
   "outputs": [
    {
     "data": {
      "text/plain": [
       "62"
      ]
     },
     "execution_count": 111,
     "metadata": {},
     "output_type": "execute_result"
    }
   ],
   "source": [
    "# Get all table row elements\n",
    "rows = soup.find_all(\"tr\")\n",
    "len(rows)"
   ]
  },
  {
   "cell_type": "markdown",
   "metadata": {},
   "source": [
    "⚠️ **Warning**: Keep in mind: `find_all` gets *all* the elements with the `tr` tag. We only want some of them. If we use the 'Inspect' function in Google Chrome and look carefully, then we can use some CSS selectors to get just the rows we're interested in. Specifically, we want the inner rows of the table:"
   ]
  },
  {
   "cell_type": "code",
   "execution_count": 114,
   "metadata": {},
   "outputs": [
    {
     "name": "stdout",
     "output_type": "stream",
     "text": [
      "<tr>\n",
      "<th class=\"sortable-column\" onclick=\"window.location.href = '?sortField=name&amp;sortOrder=asc';\">\n",
      "<span>Senator</span>\n",
      "<span class=\"sort-indicator\">↓↑</span>\n",
      "</th>\n",
      "<th class=\"sortable-column\" onclick=\"window.location.href = '?sortField=district&amp;sortOrder=asc';\">\n",
      "<span>District</span>\n",
      "<span class=\"sort-indicator\">↓↑</span>\n",
      "</th>\n",
      "<th class=\"sortable-column\" onclick=\"window.location.href = '?sortField=party&amp;sortOrder=asc';\">\n",
      "<span>Party</span>\n",
      "<span class=\"sort-indicator\">↓↑</span>\n",
      "</th>\n",
      "</tr> \n",
      "\n",
      "<tr class=\"member-card-container\" data-name=\"neil anderson\">\n",
      "<td scope=\"row\"><a class=\"notranslate\" href=\"/Senate/Members/Details/3312\">Neil Anderson</a></td>\n",
      "<td>47</td>\n",
      "<td>R</td>\n",
      "</tr> \n",
      "\n",
      "<tr class=\"member-card-container\" data-name=\"omar aquino\">\n",
      "<td scope=\"row\"><a class=\"notranslate\" href=\"/Senate/Members/Details/3316\">Omar Aquino</a></td>\n",
      "<td>2</td>\n",
      "<td>D</td>\n",
      "</tr> \n",
      "\n",
      "<tr class=\"member-card-container\" data-name=\"li arellano\">\n",
      "<td scope=\"row\"><a class=\"notranslate\" href=\"/Senate/Members/Details/3383\">Li Arellano, Jr.</a></td>\n",
      "<td>37</td>\n",
      "<td>R</td>\n",
      "</tr> \n",
      "\n",
      "<tr class=\"member-card-container\" data-name=\"chris balkema\">\n",
      "<td scope=\"row\"><a class=\"notranslate\" href=\"/Senate/Members/Details/3413\">Chris Balkema</a></td>\n",
      "<td>53</td>\n",
      "<td>R</td>\n",
      "</tr> \n",
      "\n",
      "<tr class=\"member-card-container\" data-name=\"christopher belt\">\n",
      "<td scope=\"row\"><a class=\"notranslate\" href=\"/Senate/Members/Details/3337\">Christopher Belt</a></td>\n",
      "<td>57</td>\n",
      "<td>D</td>\n",
      "</tr> \n",
      "\n",
      "<tr class=\"member-card-container\" data-name=\"terri bryant\">\n",
      "<td scope=\"row\"><a class=\"notranslate\" href=\"/Senate/Members/Details/3386\">Terri Bryant</a></td>\n",
      "<td>58</td>\n",
      "<td>R</td>\n",
      "</tr> \n",
      "\n",
      "<tr class=\"member-card-container\" data-name=\"cristina castro\">\n",
      "<td scope=\"row\"><a class=\"notranslate\" href=\"/Senate/Members/Details/3317\">Cristina Castro</a></td>\n",
      "<td>22</td>\n",
      "<td>D</td>\n",
      "</tr> \n",
      "\n",
      "<tr class=\"member-card-container\" data-name=\"javier cervantes\">\n",
      "<td scope=\"row\"><a class=\"notranslate\" href=\"/Senate/Members/Details/3403\">Javier L. Cervantes</a></td>\n",
      "<td>1</td>\n",
      "<td>D</td>\n",
      "</tr> \n",
      "\n",
      "<tr class=\"member-card-container\" data-name=\"andrew chesney\">\n",
      "<td scope=\"row\"><a class=\"notranslate\" href=\"/Senate/Members/Details/3410\">Andrew S. Chesney</a></td>\n",
      "<td>45</td>\n",
      "<td>R</td>\n",
      "</tr> \n",
      "\n",
      "<tr class=\"member-card-container\" data-name=\"lakesia collins\">\n",
      "<td scope=\"row\"><a class=\"notranslate\" href=\"/Senate/Members/Details/3443\">Lakesia Collins</a></td>\n",
      "<td>5</td>\n",
      "<td>D</td>\n",
      "</tr> \n",
      "\n",
      "<tr class=\"member-card-container\" data-name=\"bill cunningham\">\n",
      "<td scope=\"row\"><a class=\"notranslate\" href=\"/Senate/Members/Details/3291\">Bill Cunningham</a></td>\n",
      "<td>18</td>\n",
      "<td>D</td>\n",
      "</tr> \n",
      "\n",
      "<tr class=\"member-card-container\" data-name=\"john curran\">\n",
      "<td scope=\"row\"><a class=\"notranslate\" href=\"/Senate/Members/Details/3329\">John F. Curran</a></td>\n",
      "<td>41</td>\n",
      "<td>R</td>\n",
      "</tr> \n",
      "\n",
      "<tr class=\"member-card-container\" data-name=\"donald dewitte\">\n",
      "<td scope=\"row\"><a class=\"notranslate\" href=\"/Senate/Members/Details/3334\">Donald P. DeWitte</a></td>\n",
      "<td>33</td>\n",
      "<td>R</td>\n",
      "</tr> \n",
      "\n",
      "<tr class=\"member-card-container\" data-name=\"mary edly-allen\">\n",
      "<td scope=\"row\"><a class=\"notranslate\" href=\"/Senate/Members/Details/3407\">Mary Edly-Allen</a></td>\n",
      "<td>31</td>\n",
      "<td>D</td>\n",
      "</tr> \n",
      "\n",
      "<tr class=\"member-card-container\" data-name=\"laura ellman\">\n",
      "<td scope=\"row\"><a class=\"notranslate\" href=\"/Senate/Members/Details/3339\">Laura Ellman</a></td>\n",
      "<td>21</td>\n",
      "<td>D</td>\n",
      "</tr> \n",
      "\n",
      "<tr class=\"member-card-container\" data-name=\"paul faraci\">\n",
      "<td scope=\"row\"><a class=\"notranslate\" href=\"/Senate/Members/Details/3412\">Paul Faraci</a></td>\n",
      "<td>52</td>\n",
      "<td>D</td>\n",
      "</tr> \n",
      "\n",
      "<tr class=\"member-card-container\" data-name=\"sara feigenholtz\">\n",
      "<td scope=\"row\"><a class=\"notranslate\" href=\"/Senate/Members/Details/3376\">Sara Feigenholtz</a></td>\n",
      "<td>6</td>\n",
      "<td>D</td>\n",
      "</tr> \n",
      "\n",
      "<tr class=\"member-card-container\" data-name=\"laura fine\">\n",
      "<td scope=\"row\"><a class=\"notranslate\" href=\"/Senate/Members/Details/3338\">Laura Fine</a></td>\n",
      "<td>9</td>\n",
      "<td>D</td>\n",
      "</tr> \n",
      "\n",
      "<tr class=\"member-card-container\" data-name=\"dale fowler\">\n",
      "<td scope=\"row\"><a class=\"notranslate\" href=\"/Senate/Members/Details/3318\">Dale Fowler</a></td>\n",
      "<td>59</td>\n",
      "<td>R</td>\n",
      "</tr> \n",
      "\n",
      "<tr class=\"member-card-container\" data-name=\"suzy glowiak hilton\">\n",
      "<td scope=\"row\"><a class=\"notranslate\" href=\"/Senate/Members/Details/3341\">Suzy Glowiak Hilton</a></td>\n",
      "<td>23</td>\n",
      "<td>D</td>\n",
      "</tr> \n",
      "\n",
      "<tr class=\"member-card-container\" data-name=\"graciela guzmán\">\n",
      "<td scope=\"row\"><a class=\"notranslate\" href=\"/Senate/Members/Details/3442\">Graciela Guzmán</a></td>\n",
      "<td>20</td>\n",
      "<td>D</td>\n",
      "</tr> \n",
      "\n",
      "<tr class=\"member-card-container\" data-name=\"michael halpin\">\n",
      "<td scope=\"row\"><a class=\"notranslate\" href=\"/Senate/Members/Details/3408\">Michael W. Halpin</a></td>\n",
      "<td>36</td>\n",
      "<td>D</td>\n",
      "</tr> \n",
      "\n",
      "<tr class=\"member-card-container\" data-name=\"don harmon\">\n",
      "<td scope=\"row\"><a class=\"notranslate\" href=\"/Senate/Members/Details/3268\">Don Harmon</a></td>\n",
      "<td>39</td>\n",
      "<td>D</td>\n",
      "</tr> \n",
      "\n",
      "<tr class=\"member-card-container\" data-name=\"napoleon harris\">\n",
      "<td scope=\"row\"><a class=\"notranslate\" href=\"/Senate/Members/Details/3292\">Napoleon Harris, III</a></td>\n",
      "<td>15</td>\n",
      "<td>D</td>\n",
      "</tr> \n",
      "\n",
      "<tr class=\"member-card-container\" data-name=\"erica harriss\">\n",
      "<td scope=\"row\"><a class=\"notranslate\" href=\"/Senate/Members/Details/3411\">Erica Harriss</a></td>\n",
      "<td>56</td>\n",
      "<td>R</td>\n",
      "</tr> \n",
      "\n",
      "<tr class=\"member-card-container\" data-name=\"michael hastings\">\n",
      "<td scope=\"row\"><a class=\"notranslate\" href=\"/Senate/Members/Details/3293\">Michael E. Hastings</a></td>\n",
      "<td>19</td>\n",
      "<td>D</td>\n",
      "</tr> \n",
      "\n",
      "<tr class=\"member-card-container\" data-name=\"darby hills\">\n",
      "<td scope=\"row\"><a class=\"notranslate\" href=\"/Senate/Members/Details/3460\">Darby A. Hills</a></td>\n",
      "<td>26</td>\n",
      "<td>R</td>\n",
      "</tr> \n",
      "\n",
      "<tr class=\"member-card-container\" data-name=\"linda holmes\">\n",
      "<td scope=\"row\"><a class=\"notranslate\" href=\"/Senate/Members/Details/3270\">Linda Holmes</a></td>\n",
      "<td>42</td>\n",
      "<td>D</td>\n",
      "</tr> \n",
      "\n",
      "<tr class=\"member-card-container\" data-name=\"mattie hunter\">\n",
      "<td scope=\"row\"><a class=\"notranslate\" href=\"/Senate/Members/Details/3269\">Mattie Hunter</a></td>\n",
      "<td>3</td>\n",
      "<td>D</td>\n",
      "</tr> \n",
      "\n",
      "<tr class=\"member-card-container\" data-name=\"adriane johnson\">\n",
      "<td scope=\"row\"><a class=\"notranslate\" href=\"/Senate/Members/Details/3378\">Adriane Johnson</a></td>\n",
      "<td>30</td>\n",
      "<td>D</td>\n",
      "</tr> \n",
      "\n",
      "<tr class=\"member-card-container\" data-name=\"emil jones\">\n",
      "<td scope=\"row\"><a class=\"notranslate\" href=\"/Senate/Members/Details/3276\">Emil Jones, III</a></td>\n",
      "<td>14</td>\n",
      "<td>D</td>\n",
      "</tr> \n",
      "\n",
      "<tr class=\"member-card-container\" data-name=\"patrick joyce\">\n",
      "<td scope=\"row\"><a class=\"notranslate\" href=\"/Senate/Members/Details/3372\">Patrick J. Joyce</a></td>\n",
      "<td>40</td>\n",
      "<td>D</td>\n",
      "</tr> \n",
      "\n",
      "<tr class=\"member-card-container\" data-name=\"david koehler\">\n",
      "<td scope=\"row\"><a class=\"notranslate\" href=\"/Senate/Members/Details/3271\">David Koehler</a></td>\n",
      "<td>46</td>\n",
      "<td>D</td>\n",
      "</tr> \n",
      "\n",
      "<tr class=\"member-card-container\" data-name=\"seth lewis\">\n",
      "<td scope=\"row\"><a class=\"notranslate\" href=\"/Senate/Members/Details/3406\">Seth Lewis</a></td>\n",
      "<td>24</td>\n",
      "<td>R</td>\n",
      "</tr> \n",
      "\n",
      "<tr class=\"member-card-container\" data-name=\"kimberly lightford\">\n",
      "<td scope=\"row\"><a class=\"notranslate\" href=\"/Senate/Members/Details/3264\">Kimberly A. Lightford</a></td>\n",
      "<td>4</td>\n",
      "<td>D</td>\n",
      "</tr> \n",
      "\n",
      "<tr class=\"member-card-container\" data-name=\"meg loughran cappel\">\n",
      "<td scope=\"row\"><a class=\"notranslate\" href=\"/Senate/Members/Details/3380\">Meg Loughran Cappel</a></td>\n",
      "<td>49</td>\n",
      "<td>D</td>\n",
      "</tr> \n",
      "\n",
      "<tr class=\"member-card-container\" data-name=\"robert martwick\">\n",
      "<td scope=\"row\"><a class=\"notranslate\" href=\"/Senate/Members/Details/3369\">Robert F. Martwick</a></td>\n",
      "<td>10</td>\n",
      "<td>D</td>\n",
      "</tr> \n",
      "\n",
      "<tr class=\"member-card-container\" data-name=\"steve mcclure\">\n",
      "<td scope=\"row\"><a class=\"notranslate\" href=\"/Senate/Members/Details/3342\">Steve McClure</a></td>\n",
      "<td>54</td>\n",
      "<td>R</td>\n",
      "</tr> \n",
      "\n",
      "<tr class=\"member-card-container\" data-name=\"julie morrison\">\n",
      "<td scope=\"row\"><a class=\"notranslate\" href=\"/Senate/Members/Details/3294\">Julie A. Morrison</a></td>\n",
      "<td>29</td>\n",
      "<td>D</td>\n",
      "</tr> \n",
      "\n",
      "<tr class=\"member-card-container\" data-name=\"laura murphy\">\n",
      "<td scope=\"row\"><a class=\"notranslate\" href=\"/Senate/Members/Details/3313\">Laura M. Murphy</a></td>\n",
      "<td>28</td>\n",
      "<td>D</td>\n",
      "</tr> \n",
      "\n",
      "<tr class=\"member-card-container\" data-name=\"robert peters\">\n",
      "<td scope=\"row\"><a class=\"notranslate\" href=\"/Senate/Members/Details/3343\">Robert Peters</a></td>\n",
      "<td>13</td>\n",
      "<td>D</td>\n",
      "</tr> \n",
      "\n",
      "<tr class=\"member-card-container\" data-name=\"jason plummer\">\n",
      "<td scope=\"row\"><a class=\"notranslate\" href=\"/Senate/Members/Details/3344\">Jason Plummer</a></td>\n",
      "<td>55</td>\n",
      "<td>R</td>\n",
      "</tr> \n",
      "\n",
      "<tr class=\"member-card-container\" data-name=\"mike porfirio\">\n",
      "<td scope=\"row\"><a class=\"notranslate\" href=\"/Senate/Members/Details/3404\">Mike Porfirio</a></td>\n",
      "<td>11</td>\n",
      "<td>D</td>\n",
      "</tr> \n",
      "\n",
      "<tr class=\"member-card-container\" data-name=\"willie preston\">\n",
      "<td scope=\"row\"><a class=\"notranslate\" href=\"/Senate/Members/Details/3405\">Willie Preston</a></td>\n",
      "<td>16</td>\n",
      "<td>D</td>\n",
      "</tr> \n",
      "\n",
      "<tr class=\"member-card-container\" data-name=\"sue rezin\">\n",
      "<td scope=\"row\"><a class=\"notranslate\" href=\"/Senate/Members/Details/3281\">Sue Rezin</a></td>\n",
      "<td>38</td>\n",
      "<td>R</td>\n",
      "</tr> \n",
      "\n",
      "<tr class=\"member-card-container\" data-name=\"chapin rose\">\n",
      "<td scope=\"row\"><a class=\"notranslate\" href=\"/Senate/Members/Details/3295\">Chapin Rose</a></td>\n",
      "<td>51</td>\n",
      "<td>R</td>\n",
      "</tr> \n",
      "\n",
      "<tr class=\"member-card-container\" data-name=\"mike simmons\">\n",
      "<td scope=\"row\"><a class=\"notranslate\" href=\"/Senate/Members/Details/3398\">Mike Simmons</a></td>\n",
      "<td>7</td>\n",
      "<td>D</td>\n",
      "</tr> \n",
      "\n",
      "<tr class=\"member-card-container\" data-name=\"elgie sims\">\n",
      "<td scope=\"row\"><a class=\"notranslate\" href=\"/Senate/Members/Details/3331\">Elgie R. Sims, Jr.</a></td>\n",
      "<td>17</td>\n",
      "<td>D</td>\n",
      "</tr> \n",
      "\n",
      "<tr class=\"member-card-container\" data-name=\"steve stadelman\">\n",
      "<td scope=\"row\"><a class=\"notranslate\" href=\"/Senate/Members/Details/3296\">Steve Stadelman</a></td>\n",
      "<td>34</td>\n",
      "<td>D</td>\n",
      "</tr> \n",
      "\n",
      "<tr class=\"member-card-container\" data-name=\"dave syverson\">\n",
      "<td scope=\"row\"><a class=\"notranslate\" href=\"/Senate/Members/Details/3265\">Dave Syverson</a></td>\n",
      "<td>35</td>\n",
      "<td>R</td>\n",
      "</tr> \n",
      "\n",
      "<tr class=\"member-card-container\" data-name=\"jil tracy\">\n",
      "<td scope=\"row\"><a class=\"notranslate\" href=\"/Senate/Members/Details/3319\">Jil Tracy</a></td>\n",
      "<td>50</td>\n",
      "<td>R</td>\n",
      "</tr> \n",
      "\n",
      "<tr class=\"member-card-container\" data-name=\"doris turner\">\n",
      "<td scope=\"row\"><a class=\"notranslate\" href=\"/Senate/Members/Details/3399\">Doris Turner</a></td>\n",
      "<td>48</td>\n",
      "<td>D</td>\n",
      "</tr> \n",
      "\n",
      "<tr class=\"member-card-container\" data-name=\"sally turner\">\n",
      "<td scope=\"row\"><a class=\"notranslate\" href=\"/Senate/Members/Details/3397\">Sally J. Turner</a></td>\n",
      "<td>44</td>\n",
      "<td>R</td>\n",
      "</tr> \n",
      "\n",
      "<tr class=\"member-card-container\" data-name=\"rachel ventura\">\n",
      "<td scope=\"row\"><a class=\"notranslate\" href=\"/Senate/Members/Details/3409\">Rachel Ventura</a></td>\n",
      "<td>43</td>\n",
      "<td>D</td>\n",
      "</tr> \n",
      "\n",
      "<tr class=\"member-card-container\" data-name=\"karina villa\">\n",
      "<td scope=\"row\"><a class=\"notranslate\" href=\"/Senate/Members/Details/3385\">Karina Villa</a></td>\n",
      "<td>25</td>\n",
      "<td>D</td>\n",
      "</tr> \n",
      "\n",
      "<tr class=\"member-card-container\" data-name=\"celina villanueva\">\n",
      "<td scope=\"row\"><a class=\"notranslate\" href=\"/Senate/Members/Details/3375\">Celina Villanueva</a></td>\n",
      "<td>12</td>\n",
      "<td>D</td>\n",
      "</tr> \n",
      "\n",
      "<tr class=\"member-card-container\" data-name=\"ram villivalam\">\n",
      "<td scope=\"row\"><a class=\"notranslate\" href=\"/Senate/Members/Details/3345\">Ram Villivalam</a></td>\n",
      "<td>8</td>\n",
      "<td>D</td>\n",
      "</tr> \n",
      "\n",
      "<tr class=\"member-card-container\" data-name=\"mark walker\">\n",
      "<td scope=\"row\"><a class=\"notranslate\" href=\"/Senate/Members/Details/3449\">Mark L. Walker</a></td>\n",
      "<td>27</td>\n",
      "<td>D</td>\n",
      "</tr> \n",
      "\n",
      "<tr class=\"member-card-container\" data-name=\"craig wilcox\">\n",
      "<td scope=\"row\"><a class=\"notranslate\" href=\"/Senate/Members/Details/3336\">Craig Wilcox</a></td>\n",
      "<td>32</td>\n",
      "<td>R</td>\n",
      "</tr> \n",
      "\n",
      "<tr>\n",
      "<th class=\"sortable-column\" onclick=\"window.location.href = '?sortField=name&amp;sortOrder=asc';\">\n",
      "<span>Senator</span>\n",
      "<span class=\"sort-indicator\">↓↑</span>\n",
      "</th>\n",
      "<th class=\"sortable-column\" onclick=\"window.location.href = '?sortField=district&amp;sortOrder=asc';\">\n",
      "<span>District</span>\n",
      "<span class=\"sort-indicator\">↓↑</span>\n",
      "</th>\n",
      "<th class=\"sortable-column\" onclick=\"window.location.href = '?sortField=party&amp;sortOrder=asc';\">\n",
      "<span>Party</span>\n",
      "<span class=\"sort-indicator\">↓↑</span>\n",
      "</th>\n",
      "</tr> \n",
      "\n",
      "<tr class=\"member-card-container\" data-name=\"dan mcconchie\">\n",
      "<td scope=\"row\"><a class=\"notranslate\" href=\"/Senate/Members/Details/3315\">Dan McConchie</a></td>\n",
      "<td>26</td>\n",
      "<td>R</td>\n",
      "</tr> \n",
      "\n"
     ]
    }
   ],
   "source": [
    "# Returns every ‘a’ css selector in the page\n",
    "rows = soup.select('tr')\n",
    "\n",
    "for row in rows[:500]:\n",
    "    print(row, '\\n')"
   ]
  },
  {
   "cell_type": "markdown",
   "metadata": {},
   "source": [
    "It looks like we want everything after the first two rows. Let's work with a single row to start, and build our loop from there."
   ]
  },
  {
   "cell_type": "code",
   "execution_count": 116,
   "metadata": {},
   "outputs": [
    {
     "name": "stdout",
     "output_type": "stream",
     "text": [
      "<tr class=\"member-card-container\" data-name=\"dave syverson\">\n",
      " <td scope=\"row\">\n",
      "  <a class=\"notranslate\" href=\"/Senate/Members/Details/3265\">\n",
      "   Dave Syverson\n",
      "  </a>\n",
      " </td>\n",
      " <td>\n",
      "  35\n",
      " </td>\n",
      " <td>\n",
      "  R\n",
      " </td>\n",
      "</tr>\n",
      "\n"
     ]
    }
   ],
   "source": [
    "example_row = rows[50]\n",
    "print(example_row.prettify())"
   ]
  },
  {
   "cell_type": "markdown",
   "metadata": {},
   "source": [
    "Let's break this row down into its component cells/columns using the `select` method with CSS selectors. Looking closely at the HTML, there are a couple of ways we could do this.\n",
    "\n",
    "* We could identify the cells by their tag `td`.\n",
    "* We could use the the class name `.detail`.\n",
    "* We could combine both and use the selector `td.detail`."
   ]
  },
  {
   "cell_type": "code",
   "execution_count": 129,
   "metadata": {},
   "outputs": [
    {
     "name": "stdout",
     "output_type": "stream",
     "text": [
      "<td scope=\"row\"><a class=\"notranslate\" href=\"/Senate/Members/Details/3265\">Dave Syverson</a></td>\n",
      "<td>35</td>\n",
      "<td>R</td>\n",
      "\n",
      "\n",
      "\n"
     ]
    }
   ],
   "source": [
    "for cell in example_row.select('td'):\n",
    "    print(cell)\n",
    "print()\n",
    "\n",
    "for cell in example_row.select('.detail'):\n",
    "    print(cell)\n",
    "print()\n",
    "\n",
    "for cell in example_row.select('td.detail'):\n",
    "    print(cell)\n",
    "print()"
   ]
  },
  {
   "cell_type": "markdown",
   "metadata": {},
   "source": [
    "We can confirm that these are all the same."
   ]
  },
  {
   "cell_type": "code",
   "execution_count": 131,
   "metadata": {
    "tags": []
   },
   "outputs": [],
   "source": [
    "# Only compare selectors that should return the same elements\n",
    "assert example_row.select('td.detail') == example_row.select('.detail')"
   ]
  },
  {
   "cell_type": "markdown",
   "metadata": {},
   "source": [
    "Let's use the selector `td.detail` to be as specific as possible."
   ]
  },
  {
   "cell_type": "code",
   "execution_count": 132,
   "metadata": {},
   "outputs": [
    {
     "data": {
      "text/plain": [
       "[<td scope=\"row\"><a class=\"notranslate\" href=\"/Senate/Members/Details/3265\">Dave Syverson</a></td>,\n",
       " <td>35</td>,\n",
       " <td>R</td>]"
      ]
     },
     "execution_count": 132,
     "metadata": {},
     "output_type": "execute_result"
    }
   ],
   "source": [
    "# Select only those 'td' tags with class 'detail' \n",
    "detail_cells = example_row.select('td')\n",
    "detail_cells"
   ]
  },
  {
   "cell_type": "markdown",
   "metadata": {},
   "source": [
    "Most of the time, we're interested in the actual **text** of a website, not its tags. Recall that to get the text of an HTML element, we use the `text` member:"
   ]
  },
  {
   "cell_type": "code",
   "execution_count": 133,
   "metadata": {},
   "outputs": [
    {
     "name": "stdout",
     "output_type": "stream",
     "text": [
      "['Dave Syverson', '35', 'R']\n"
     ]
    }
   ],
   "source": [
    "# Keep only the text in each of those cells\n",
    "row_data = [cell.text for cell in detail_cells]\n",
    "\n",
    "print(row_data)"
   ]
  },
  {
   "cell_type": "markdown",
   "metadata": {},
   "source": [
    "Looks good! Now we just use our basic Python knowledge to get the elements of this list that we want. Remember, we want the senator's name, their district, and their party."
   ]
  },
  {
   "cell_type": "code",
   "execution_count": 135,
   "metadata": {},
   "outputs": [
    {
     "name": "stdout",
     "output_type": "stream",
     "text": [
      "Dave Syverson\n",
      "35\n",
      "R\n"
     ]
    }
   ],
   "source": [
    "print(row_data[0]) # Name\n",
    "print(row_data[1]) # District\n",
    "print(row_data[2]) # Party"
   ]
  },
  {
   "cell_type": "markdown",
   "metadata": {},
   "source": [
    "## Getting Rid of Junk Rows\n",
    "\n",
    "We saw at the beginning that not all of the rows we got actually correspond to a senator. We'll need to do some cleaning before we can proceed forward. Take a look at some examples:"
   ]
  },
  {
   "cell_type": "code",
   "execution_count": 136,
   "metadata": {},
   "outputs": [
    {
     "name": "stdout",
     "output_type": "stream",
     "text": [
      "Row 0:\n",
      " <tr>\n",
      "<th class=\"sortable-column\" onclick=\"window.location.href = '?sortField=name&amp;sortOrder=asc';\">\n",
      "<span>Senator</span>\n",
      "<span class=\"sort-indicator\">↓↑</span>\n",
      "</th>\n",
      "<th class=\"sortable-column\" onclick=\"window.location.href = '?sortField=district&amp;sortOrder=asc';\">\n",
      "<span>District</span>\n",
      "<span class=\"sort-indicator\">↓↑</span>\n",
      "</th>\n",
      "<th class=\"sortable-column\" onclick=\"window.location.href = '?sortField=party&amp;sortOrder=asc';\">\n",
      "<span>Party</span>\n",
      "<span class=\"sort-indicator\">↓↑</span>\n",
      "</th>\n",
      "</tr> \n",
      "\n",
      "Row 1:\n",
      " <tr class=\"member-card-container\" data-name=\"neil anderson\">\n",
      "<td scope=\"row\"><a class=\"notranslate\" href=\"/Senate/Members/Details/3312\">Neil Anderson</a></td>\n",
      "<td>47</td>\n",
      "<td>R</td>\n",
      "</tr> \n",
      "\n",
      "Last Row:\n",
      " <tr class=\"member-card-container\" data-name=\"dan mcconchie\">\n",
      "<td scope=\"row\"><a class=\"notranslate\" href=\"/Senate/Members/Details/3315\">Dan McConchie</a></td>\n",
      "<td>26</td>\n",
      "<td>R</td>\n",
      "</tr>\n"
     ]
    }
   ],
   "source": [
    "print('Row 0:\\n', rows[0], '\\n')\n",
    "print('Row 1:\\n', rows[1], '\\n')\n",
    "print('Last Row:\\n', rows[-1])"
   ]
  },
  {
   "cell_type": "markdown",
   "metadata": {},
   "source": [
    "When we write our for loop, we only want it to apply to the relevant rows. So we'll need to filter out the irrelevant rows. The way to do this is to compare some of these to the rows we do want, see how they differ, and then formulate that in a conditional.\n",
    "\n",
    "As you can imagine, there a lot of possible ways to do this, and it'll depend on the website. We'll show some here to give you an idea of how to do this."
   ]
  },
  {
   "cell_type": "code",
   "execution_count": 139,
   "metadata": {},
   "outputs": [
    {
     "name": "stdout",
     "output_type": "stream",
     "text": [
      "7\n",
      "7\n",
      "7\n",
      "7\n"
     ]
    }
   ],
   "source": [
    "# Bad rows\n",
    "print(len(rows[0]))\n",
    "print(len(rows[1]))\n",
    "\n",
    "# Good rows\n",
    "print(len(rows[2]))\n",
    "print(len(rows[3]))"
   ]
  },
  {
   "cell_type": "markdown",
   "metadata": {},
   "source": [
    "Perhaps good rows have a length of 5. Let's check:"
   ]
  },
  {
   "cell_type": "code",
   "execution_count": 141,
   "metadata": {},
   "outputs": [
    {
     "name": "stdout",
     "output_type": "stream",
     "text": [
      "<tr class=\"member-card-container\" data-name=\"neil anderson\">\n",
      "<td scope=\"row\"><a class=\"notranslate\" href=\"/Senate/Members/Details/3312\">Neil Anderson</a></td>\n",
      "<td>47</td>\n",
      "<td>R</td>\n",
      "</tr> \n",
      "\n",
      "<tr class=\"member-card-container\" data-name=\"craig wilcox\">\n",
      "<td scope=\"row\"><a class=\"notranslate\" href=\"/Senate/Members/Details/3336\">Craig Wilcox</a></td>\n",
      "<td>32</td>\n",
      "<td>R</td>\n",
      "</tr> \n",
      "\n",
      "<tr class=\"member-card-container\" data-name=\"dan mcconchie\">\n",
      "<td scope=\"row\"><a class=\"notranslate\" href=\"/Senate/Members/Details/3315\">Dan McConchie</a></td>\n",
      "<td>26</td>\n",
      "<td>R</td>\n",
      "</tr>\n"
     ]
    }
   ],
   "source": [
    "good_rows = [row for row in rows if row.select('td')]\n",
    "\n",
    "# Let's check some rows\n",
    "print(good_rows[0], '\\n')\n",
    "print(good_rows[-2], '\\n')\n",
    "print(good_rows[-1])"
   ]
  },
  {
   "cell_type": "markdown",
   "metadata": {},
   "source": [
    "We found a footer row in our list that we'd like to avoid. Let's try something else:"
   ]
  },
  {
   "cell_type": "code",
   "execution_count": 142,
   "metadata": {},
   "outputs": [
    {
     "data": {
      "text/plain": [
       "[<td scope=\"row\"><a class=\"notranslate\" href=\"/Senate/Members/Details/3316\">Omar Aquino</a></td>,\n",
       " <td>2</td>,\n",
       " <td>D</td>]"
      ]
     },
     "execution_count": 142,
     "metadata": {},
     "output_type": "execute_result"
    }
   ],
   "source": [
    "rows[2].select('td') "
   ]
  },
  {
   "cell_type": "code",
   "execution_count": 143,
   "metadata": {},
   "outputs": [
    {
     "name": "stdout",
     "output_type": "stream",
     "text": [
      "[<td scope=\"row\"><a class=\"notranslate\" href=\"/Senate/Members/Details/3315\">Dan McConchie</a></td>, <td>26</td>, <td>R</td>] \n",
      "\n",
      "[<td scope=\"row\"><a class=\"notranslate\" href=\"/Senate/Members/Details/3337\">Christopher Belt</a></td>, <td>57</td>, <td>D</td>] \n",
      "\n",
      "Checking rows...\n",
      "\n",
      "<tr class=\"member-card-container\" data-name=\"neil anderson\">\n",
      "<td scope=\"row\"><a class=\"notranslate\" href=\"/Senate/Members/Details/3312\">Neil Anderson</a></td>\n",
      "<td>47</td>\n",
      "<td>R</td>\n",
      "</tr> \n",
      "\n",
      "<tr class=\"member-card-container\" data-name=\"dan mcconchie\">\n",
      "<td scope=\"row\"><a class=\"notranslate\" href=\"/Senate/Members/Details/3315\">Dan McConchie</a></td>\n",
      "<td>26</td>\n",
      "<td>R</td>\n",
      "</tr>\n"
     ]
    }
   ],
   "source": [
    "# Bad row\n",
    "print(rows[-1].select('td'), '\\n')\n",
    "\n",
    "# Good row\n",
    "print(rows[5].select('td'), '\\n')\n",
    "\n",
    "# How about this?\n",
    "good_rows = [row for row in rows if row.select('td')]\n",
    "\n",
    "print(\"Checking rows...\\n\")\n",
    "print(good_rows[0], '\\n')\n",
    "print(good_rows[-1])"
   ]
  },
  {
   "cell_type": "markdown",
   "metadata": {},
   "source": [
    "Looks like we found something that worked!"
   ]
  },
  {
   "cell_type": "markdown",
   "metadata": {},
   "source": [
    "## Loop it All Together\n",
    "\n",
    "Now that we've seen how to get the data we want from one row, as well as filter out the rows we don't want, let's put it all together into a loop."
   ]
  },
  {
   "cell_type": "code",
   "execution_count": 145,
   "metadata": {
    "tags": []
   },
   "outputs": [],
   "source": [
    "# Define storage list\n",
    "members = []\n",
    "\n",
    "# Get rid of junk rows\n",
    "valid_rows = [row for row in rows if row.select('td')]\n",
    "\n",
    "# Loop through all rows\n",
    "for row in valid_rows:\n",
    "    # Select only those 'td' tags with class 'detail'\n",
    "    detail_cells = row.select('td')\n",
    "    # Keep only the text in each of those cells\n",
    "    row_data = [cell.text for cell in detail_cells]\n",
    "    # Collect information\n",
    "    name = row_data[0]\n",
    "    district = int(row_data[1])\n",
    "    party = row_data[2]\n",
    "    # Store in a tuple\n",
    "    senator = (name, district, party)\n",
    "    # Append to list\n",
    "    members.append(senator)"
   ]
  },
  {
   "cell_type": "code",
   "execution_count": 146,
   "metadata": {},
   "outputs": [
    {
     "data": {
      "text/plain": [
       "60"
      ]
     },
     "execution_count": 146,
     "metadata": {},
     "output_type": "execute_result"
    }
   ],
   "source": [
    "# Should be 61\n",
    "len(members)"
   ]
  },
  {
   "cell_type": "markdown",
   "metadata": {},
   "source": [
    "Let's take a look at what we have in `members`."
   ]
  },
  {
   "cell_type": "code",
   "execution_count": 147,
   "metadata": {},
   "outputs": [
    {
     "name": "stdout",
     "output_type": "stream",
     "text": [
      "[('Neil Anderson', 47, 'R'), ('Omar Aquino', 2, 'D'), ('Li Arellano, Jr.', 37, 'R'), ('Chris Balkema', 53, 'R'), ('Christopher Belt', 57, 'D')]\n"
     ]
    }
   ],
   "source": [
    "print(members[:5])"
   ]
  },
  {
   "cell_type": "markdown",
   "metadata": {},
   "source": [
    "## 🥊  Challenge: Get `href` elements pointing to members' bills \n",
    "\n",
    "The code above retrieves information on:  \n",
    "\n",
    "- the senator's name,\n",
    "- their district number,\n",
    "- and their party.\n",
    "\n",
    "We now want to retrieve the URL for each senator's list of bills. Each URL will follow a specific format. \n",
    "\n",
    "The format for the list of bills for a given senator is:\n",
    "\n",
    "`http://www.ilga.gov/senate/SenatorBills.asp?GA=98&MemberID=[MEMBER_ID]&Primary=True`\n",
    "\n",
    "to get something like:\n",
    "\n",
    "`http://www.ilga.gov/senate/SenatorBills.asp?MemberID=1911&GA=98&Primary=True`\n",
    "\n",
    "in which `MEMBER_ID=1911`. \n",
    "\n",
    "You should be able to see that, unfortunately, `MEMBER_ID` is not currently something pulled out in our scraping code.\n",
    "\n",
    "Your initial task is to modify the code above so that we also **retrieve the full URL which points to the corresponding page of primary-sponsored bills**, for each member, and return it along with their name, district, and party.\n",
    "\n",
    "Tips: \n",
    "\n",
    "* To do this, you will want to get the appropriate anchor element (`<a>`) in each legislator's row of the table. You can again use the `.select()` method on the `row` object in the loop to do this — similar to the command that finds all of the `td.detail` cells in the row. Remember that we only want the link to the legislator's bills, not the committees or the legislator's profile page.\n",
    "* The anchor elements' HTML will look like `<a href=\"/senate/Senator.asp/...\">Bills</a>`. The string in the `href` attribute contains the **relative** link we are after. You can access an attribute of a BeatifulSoup `Tag` object the same way you access a Python dictionary: `anchor['attributeName']`. See the <a href=\"http://www.crummy.com/software/BeautifulSoup/bs4/doc/#tag\">documentation</a> for more details.\n",
    "* There are a _lot_ of different ways to use BeautifulSoup to get things done. whatever you need to do to pull the `href` out is fine.\n",
    "\n",
    "The code has been partially filled out for you. Fill it in where it says `#YOUR CODE HERE`. Save the path into an object called `full_path`."
   ]
  },
  {
   "cell_type": "code",
   "execution_count": 148,
   "metadata": {
    "tags": []
   },
   "outputs": [],
   "source": [
    "# Make a GET request\n",
    "req = requests.get('https://www.ilga.gov/Senate/Members/List')\n",
    "# Read the content of the server’s response\n",
    "src = req.text\n",
    "# Soup it\n",
    "soup = BeautifulSoup(src, \"lxml\")\n",
    "# Create empty list to store our data\n",
    "members = []\n",
    "\n",
    "# Returns every ‘tr tr tr’ css selector in the page\n",
    "rows = soup.select('tr')\n",
    "# Get rid of junk rows\n",
    "rows = [row for row in rows if row.select('td')]\n",
    "\n",
    "# Loop through all rows\n",
    "for row in rows:\n",
    "    # Select only those 'td' tags with class 'detail'\n",
    "    detail_cells = row.select('td') \n",
    "    # Keep only the text in each of those cells\n",
    "    row_data = [cell.text for cell in detail_cells]\n",
    "    # Collect information\n",
    "    name = row_data[0]\n",
    "    district = int(row_data[1])\n",
    "    party = row_data[2]\n",
    "\n",
    "    # YOUR CODE HERE\n",
    "    full_path = ''\n",
    "\n",
    "    # Store in a tuple\n",
    "    senator = (name, district, party, full_path)\n",
    "    # Append to list\n",
    "    members.append(senator)"
   ]
  },
  {
   "cell_type": "code",
   "execution_count": 149,
   "metadata": {
    "tags": []
   },
   "outputs": [
    {
     "data": {
      "text/plain": [
       "[('Neil Anderson', 47, 'R', ''),\n",
       " ('Omar Aquino', 2, 'D', ''),\n",
       " ('Li Arellano, Jr.', 37, 'R', ''),\n",
       " ('Chris Balkema', 53, 'R', ''),\n",
       " ('Christopher Belt', 57, 'D', '')]"
      ]
     },
     "execution_count": 149,
     "metadata": {},
     "output_type": "execute_result"
    }
   ],
   "source": [
    "# Uncomment to test \n",
    "members[:5]"
   ]
  },
  {
   "cell_type": "markdown",
   "metadata": {},
   "source": [
    "## 🥊  Challenge: Modularize Your Code\n",
    "\n",
    "Turn the code above into a function that accepts a URL, scrapes the URL for its senators, and returns a list of tuples containing information about each senator. "
   ]
  },
  {
   "cell_type": "code",
   "execution_count": null,
   "metadata": {
    "tags": []
   },
   "outputs": [],
   "source": [
    "# YOUR CODE HERE\n",
    "def get_senate_member_links(url):\n",
    "    req = requests.get(url)\n",
    "    soup = BeautifulSoup(req.text, \"lxml\")\n",
    "    members = []\n",
    "    table = soup.find(\"table\")\n",
    "    if table:\n",
    "        for row in table.find_all(\"tr\")[1:]:  # Skip header\n",
    "            cells = row.find_all(\"td\")\n",
    "            if len(cells) > 0:\n",
    "                link_tag = cells[0].find(\"a\")\n",
    "                if link_tag and link_tag.get(\"href\"):\n",
    "                    name = link_tag.text.strip()\n",
    "                    profile_url = \"https://www.ilga.gov/Senate/Members\" + link_tag[\"href\"]\n",
    "                    members.append((name, profile_url))\n",
    "    return members"
   ]
  },
  {
   "cell_type": "markdown",
   "metadata": {},
   "source": [
    "Se extraen los link de los miembros del senado, se verifica que en los links hay un \"/\" adicional, quitando el adicional los links funcionan y redirigen a la infromacion."
   ]
  },
  {
   "cell_type": "code",
   "execution_count": 171,
   "metadata": {
    "tags": []
   },
   "outputs": [
    {
     "name": "stdout",
     "output_type": "stream",
     "text": [
      "Total miembros: 59\n",
      "('Neil Anderson', 'https://www.ilga.gov//Senate/Members/Details/3312')\n",
      "('Omar Aquino', 'https://www.ilga.gov//Senate/Members/Details/3316')\n",
      "('Li Arellano, Jr.', 'https://www.ilga.gov//Senate/Members/Details/3383')\n",
      "('Chris Balkema', 'https://www.ilga.gov//Senate/Members/Details/3413')\n",
      "('Christopher Belt', 'https://www.ilga.gov//Senate/Members/Details/3337')\n",
      "('Terri Bryant', 'https://www.ilga.gov//Senate/Members/Details/3386')\n",
      "('Cristina Castro', 'https://www.ilga.gov//Senate/Members/Details/3317')\n",
      "('Javier L. Cervantes', 'https://www.ilga.gov//Senate/Members/Details/3403')\n",
      "('Andrew S. Chesney', 'https://www.ilga.gov//Senate/Members/Details/3410')\n",
      "('Lakesia Collins', 'https://www.ilga.gov//Senate/Members/Details/3443')\n",
      "('Bill Cunningham', 'https://www.ilga.gov//Senate/Members/Details/3291')\n",
      "('John F. Curran', 'https://www.ilga.gov//Senate/Members/Details/3329')\n",
      "('Donald P. DeWitte', 'https://www.ilga.gov//Senate/Members/Details/3334')\n",
      "('Mary Edly-Allen', 'https://www.ilga.gov//Senate/Members/Details/3407')\n",
      "('Laura Ellman', 'https://www.ilga.gov//Senate/Members/Details/3339')\n",
      "('Paul Faraci', 'https://www.ilga.gov//Senate/Members/Details/3412')\n",
      "('Sara Feigenholtz', 'https://www.ilga.gov//Senate/Members/Details/3376')\n",
      "('Laura Fine', 'https://www.ilga.gov//Senate/Members/Details/3338')\n",
      "('Dale Fowler', 'https://www.ilga.gov//Senate/Members/Details/3318')\n",
      "('Suzy Glowiak Hilton', 'https://www.ilga.gov//Senate/Members/Details/3341')\n",
      "('Graciela Guzmán', 'https://www.ilga.gov//Senate/Members/Details/3442')\n",
      "('Michael W. Halpin', 'https://www.ilga.gov//Senate/Members/Details/3408')\n",
      "('Don Harmon', 'https://www.ilga.gov//Senate/Members/Details/3268')\n",
      "('Napoleon Harris, III', 'https://www.ilga.gov//Senate/Members/Details/3292')\n",
      "('Erica Harriss', 'https://www.ilga.gov//Senate/Members/Details/3411')\n",
      "('Michael E. Hastings', 'https://www.ilga.gov//Senate/Members/Details/3293')\n",
      "('Darby A. Hills', 'https://www.ilga.gov//Senate/Members/Details/3460')\n",
      "('Linda Holmes', 'https://www.ilga.gov//Senate/Members/Details/3270')\n",
      "('Mattie Hunter', 'https://www.ilga.gov//Senate/Members/Details/3269')\n",
      "('Adriane Johnson', 'https://www.ilga.gov//Senate/Members/Details/3378')\n",
      "('Emil Jones, III', 'https://www.ilga.gov//Senate/Members/Details/3276')\n",
      "('Patrick J. Joyce', 'https://www.ilga.gov//Senate/Members/Details/3372')\n",
      "('David Koehler', 'https://www.ilga.gov//Senate/Members/Details/3271')\n",
      "('Seth Lewis', 'https://www.ilga.gov//Senate/Members/Details/3406')\n",
      "('Kimberly A. Lightford', 'https://www.ilga.gov//Senate/Members/Details/3264')\n",
      "('Meg Loughran Cappel', 'https://www.ilga.gov//Senate/Members/Details/3380')\n",
      "('Robert F. Martwick', 'https://www.ilga.gov//Senate/Members/Details/3369')\n",
      "('Steve McClure', 'https://www.ilga.gov//Senate/Members/Details/3342')\n",
      "('Julie A. Morrison', 'https://www.ilga.gov//Senate/Members/Details/3294')\n",
      "('Laura M. Murphy', 'https://www.ilga.gov//Senate/Members/Details/3313')\n",
      "('Robert Peters', 'https://www.ilga.gov//Senate/Members/Details/3343')\n",
      "('Jason Plummer', 'https://www.ilga.gov//Senate/Members/Details/3344')\n",
      "('Mike Porfirio', 'https://www.ilga.gov//Senate/Members/Details/3404')\n",
      "('Willie Preston', 'https://www.ilga.gov//Senate/Members/Details/3405')\n",
      "('Sue Rezin', 'https://www.ilga.gov//Senate/Members/Details/3281')\n",
      "('Chapin Rose', 'https://www.ilga.gov//Senate/Members/Details/3295')\n",
      "('Mike Simmons', 'https://www.ilga.gov//Senate/Members/Details/3398')\n",
      "('Elgie R. Sims, Jr.', 'https://www.ilga.gov//Senate/Members/Details/3331')\n",
      "('Steve Stadelman', 'https://www.ilga.gov//Senate/Members/Details/3296')\n",
      "('Dave Syverson', 'https://www.ilga.gov//Senate/Members/Details/3265')\n",
      "('Jil Tracy', 'https://www.ilga.gov//Senate/Members/Details/3319')\n",
      "('Doris Turner', 'https://www.ilga.gov//Senate/Members/Details/3399')\n",
      "('Sally J. Turner', 'https://www.ilga.gov//Senate/Members/Details/3397')\n",
      "('Rachel Ventura', 'https://www.ilga.gov//Senate/Members/Details/3409')\n",
      "('Karina Villa', 'https://www.ilga.gov//Senate/Members/Details/3385')\n",
      "('Celina Villanueva', 'https://www.ilga.gov//Senate/Members/Details/3375')\n",
      "('Ram Villivalam', 'https://www.ilga.gov//Senate/Members/Details/3345')\n",
      "('Mark L. Walker', 'https://www.ilga.gov//Senate/Members/Details/3449')\n",
      "('Craig Wilcox', 'https://www.ilga.gov//Senate/Members/Details/3336')\n"
     ]
    }
   ],
   "source": [
    "# Test your code\n",
    "url = 'https://www.ilga.gov/Senate/Members/List'\n",
    "members = get_senate_member_links(url)\n",
    "len(members)\n",
    "\n",
    "print(f\"Total miembros: {len(members)}\")\n",
    "for member in members:\n",
    "    print(member)\n"
   ]
  },
  {
   "cell_type": "markdown",
   "metadata": {},
   "source": [
    "## 🥊 Take-home Challenge: Writing a Scraper Function\n",
    "\n",
    "We want to scrape the webpages corresponding to bills sponsored by each bills.\n",
    "\n",
    "Write a function called `get_bills(url)` to parse a given bills URL. This will involve:\n",
    "\n",
    "  - requesting the URL using the <a href=\"http://docs.python-requests.org/en/latest/\">`requests`</a> library\n",
    "  - using the features of the `BeautifulSoup` library to find all of the `<td>` elements with the class `billlist`\n",
    "  - return a _list_ of tuples, each with:\n",
    "      - description (2nd column)\n",
    "      - chamber (S or H) (3rd column)\n",
    "      - the last action (4th column)\n",
    "      - the last action date (5th column)\n",
    "      \n",
    "This function has been partially completed. Fill in the rest."
   ]
  },
  {
   "cell_type": "code",
   "execution_count": 168,
   "metadata": {
    "tags": []
   },
   "outputs": [],
   "source": [
    "def get_bills(url):\n",
    "    import requests\n",
    "    from bs4 import BeautifulSoup\n",
    "    src = requests.get(url).text\n",
    "    soup = BeautifulSoup(src, \"lxml\")\n",
    "    rows = soup.select('tr')\n",
    "    bills = []\n",
    "    for row in rows:\n",
    "        cells = row.find_all('td', class_='billlist')\n",
    "        if len(cells) >= 5:\n",
    "            bill_id = cells[0].text.strip()\n",
    "            description = cells[1].text.strip()\n",
    "            chamber = cells[2].text.strip()\n",
    "            last_action = cells[3].text.strip()\n",
    "            last_action_date = cells[4].text.strip()\n",
    "            bill = (bill_id, description, chamber, last_action, last_action_date)\n",
    "            bills.append(bill)\n",
    "    return bills"
   ]
  },
  {
   "cell_type": "code",
   "execution_count": 172,
   "metadata": {
    "tags": []
   },
   "outputs": [
    {
     "data": {
      "text/plain": [
       "[]"
      ]
     },
     "execution_count": 172,
     "metadata": {},
     "output_type": "execute_result"
    }
   ],
   "source": [
    "# Uncomment to test your code\n",
    "test_url = members[0][1]\n",
    "get_bills(test_url)[0:5]"
   ]
  },
  {
   "cell_type": "markdown",
   "metadata": {},
   "source": [
    "### Scrape All Bills\n",
    "\n",
    "Finally, create a dictionary `bills_dict` which maps a district number (the key) onto a list of bills (the value) coming from that district. You can do this by looping over all of the senate members in `members_dict` and calling `get_bills()` for each of their associated bill URLs.\n",
    "\n",
    "**NOTE:** please call the function `time.sleep(1)` for each iteration of the loop, so that we don't destroy the state's web site."
   ]
  },
  {
   "cell_type": "code",
   "execution_count": null,
   "metadata": {
    "tags": []
   },
   "outputs": [],
   "source": [
    "# YOUR CODE HERE\n",
    "#debido a los cambios de la pagina no se puede obtener la informacion que se solicitaba en el enunciado"
   ]
  },
  {
   "cell_type": "code",
   "execution_count": null,
   "metadata": {
    "tags": []
   },
   "outputs": [],
   "source": [
    "# Uncomment to test your code\n",
    "# bills_dict[52]"
   ]
  }
 ],
 "metadata": {
  "anaconda-cloud": {},
  "kernelspec": {
   "display_name": "base",
   "language": "python",
   "name": "python3"
  },
  "language_info": {
   "codemirror_mode": {
    "name": "ipython",
    "version": 3
   },
   "file_extension": ".py",
   "mimetype": "text/x-python",
   "name": "python",
   "nbconvert_exporter": "python",
   "pygments_lexer": "ipython3",
   "version": "3.13.5"
  }
 },
 "nbformat": 4,
 "nbformat_minor": 4
}
